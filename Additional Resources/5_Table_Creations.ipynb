{
 "cells": [
  {
   "cell_type": "code",
   "execution_count": 234,
   "metadata": {},
   "outputs": [],
   "source": [
    "import pandas as pd\n",
    "import numpy as np\n",
    "from py2neo import Graph\n",
    "from py2neo import Node, Relationship"
   ]
  },
  {
   "cell_type": "code",
   "execution_count": 235,
   "metadata": {},
   "outputs": [
    {
     "data": {
      "text/html": [
       "<div>\n",
       "<style scoped>\n",
       "    .dataframe tbody tr th:only-of-type {\n",
       "        vertical-align: middle;\n",
       "    }\n",
       "\n",
       "    .dataframe tbody tr th {\n",
       "        vertical-align: top;\n",
       "    }\n",
       "\n",
       "    .dataframe thead th {\n",
       "        text-align: right;\n",
       "    }\n",
       "</style>\n",
       "<table border=\"1\" class=\"dataframe\">\n",
       "  <thead>\n",
       "    <tr style=\"text-align: right;\">\n",
       "      <th></th>\n",
       "      <th>Edge_Primary_Key</th>\n",
       "      <th>Edge_Type</th>\n",
       "    </tr>\n",
       "  </thead>\n",
       "  <tbody>\n",
       "    <tr>\n",
       "      <th>0</th>\n",
       "      <td>1</td>\n",
       "      <td>Employee</td>\n",
       "    </tr>\n",
       "    <tr>\n",
       "      <th>1</th>\n",
       "      <td>2</td>\n",
       "      <td>Competitor</td>\n",
       "    </tr>\n",
       "    <tr>\n",
       "      <th>2</th>\n",
       "      <td>3</td>\n",
       "      <td>Acquired</td>\n",
       "    </tr>\n",
       "    <tr>\n",
       "      <th>3</th>\n",
       "      <td>4</td>\n",
       "      <td>Has_Financials</td>\n",
       "    </tr>\n",
       "    <tr>\n",
       "      <th>4</th>\n",
       "      <td>5</td>\n",
       "      <td>NAICS_Code_Subset_of</td>\n",
       "    </tr>\n",
       "    <tr>\n",
       "      <th>5</th>\n",
       "      <td>6</td>\n",
       "      <td>Company_NAICS_code</td>\n",
       "    </tr>\n",
       "    <tr>\n",
       "      <th>6</th>\n",
       "      <td>7</td>\n",
       "      <td>Social_Media_Presence</td>\n",
       "    </tr>\n",
       "    <tr>\n",
       "      <th>7</th>\n",
       "      <td>8</td>\n",
       "      <td>Provides</td>\n",
       "    </tr>\n",
       "  </tbody>\n",
       "</table>\n",
       "</div>"
      ],
      "text/plain": [
       "   Edge_Primary_Key              Edge_Type\n",
       "0                 1               Employee\n",
       "1                 2             Competitor\n",
       "2                 3               Acquired\n",
       "3                 4         Has_Financials\n",
       "4                 5   NAICS_Code_Subset_of\n",
       "5                 6     Company_NAICS_code\n",
       "6                 7  Social_Media_Presence\n",
       "7                 8               Provides"
      ]
     },
     "execution_count": 235,
     "metadata": {},
     "output_type": "execute_result"
    }
   ],
   "source": [
    "data = {'Edge_Primary_Key' : [1, 2, 3, 4, 5, 6, 7, 8], \n",
    "        'Edge_Type' : ['Employee','Competitor','Acquired','Has_Financials','NAICS_Code_Subset_of',\n",
    "                       'Company_NAICS_code','Social_Media_Presence', 'Provides']}\n",
    "edge_type = pd.DataFrame(data = data)\n",
    "edge_type"
   ]
  },
  {
   "cell_type": "code",
   "execution_count": 236,
   "metadata": {},
   "outputs": [
    {
     "data": {
      "text/html": [
       "<div>\n",
       "<style scoped>\n",
       "    .dataframe tbody tr th:only-of-type {\n",
       "        vertical-align: middle;\n",
       "    }\n",
       "\n",
       "    .dataframe tbody tr th {\n",
       "        vertical-align: top;\n",
       "    }\n",
       "\n",
       "    .dataframe thead th {\n",
       "        text-align: right;\n",
       "    }\n",
       "</style>\n",
       "<table border=\"1\" class=\"dataframe\">\n",
       "  <thead>\n",
       "    <tr style=\"text-align: right;\">\n",
       "      <th></th>\n",
       "      <th>Primary_Key</th>\n",
       "      <th>Node_Type</th>\n",
       "    </tr>\n",
       "  </thead>\n",
       "  <tbody>\n",
       "    <tr>\n",
       "      <th>0</th>\n",
       "      <td>1</td>\n",
       "      <td>Person</td>\n",
       "    </tr>\n",
       "    <tr>\n",
       "      <th>1</th>\n",
       "      <td>2</td>\n",
       "      <td>Competing_Company</td>\n",
       "    </tr>\n",
       "    <tr>\n",
       "      <th>2</th>\n",
       "      <td>3</td>\n",
       "      <td>Acquired_Company</td>\n",
       "    </tr>\n",
       "    <tr>\n",
       "      <th>3</th>\n",
       "      <td>4</td>\n",
       "      <td>Financials</td>\n",
       "    </tr>\n",
       "    <tr>\n",
       "      <th>4</th>\n",
       "      <td>5</td>\n",
       "      <td>Social_Media</td>\n",
       "    </tr>\n",
       "    <tr>\n",
       "      <th>5</th>\n",
       "      <td>6</td>\n",
       "      <td>NAICS_Code</td>\n",
       "    </tr>\n",
       "    <tr>\n",
       "      <th>6</th>\n",
       "      <td>7</td>\n",
       "      <td>Products</td>\n",
       "    </tr>\n",
       "    <tr>\n",
       "      <th>7</th>\n",
       "      <td>8</td>\n",
       "      <td>Services</td>\n",
       "    </tr>\n",
       "  </tbody>\n",
       "</table>\n",
       "</div>"
      ],
      "text/plain": [
       "   Primary_Key          Node_Type\n",
       "0            1             Person\n",
       "1            2  Competing_Company\n",
       "2            3   Acquired_Company\n",
       "3            4         Financials\n",
       "4            5       Social_Media\n",
       "5            6         NAICS_Code\n",
       "6            7           Products\n",
       "7            8           Services"
      ]
     },
     "execution_count": 236,
     "metadata": {},
     "output_type": "execute_result"
    }
   ],
   "source": [
    "data = {'Primary_Key' : [1, 2, 3, 4, 5, 6, 7, 8], \n",
    "        'Node_Type' : ['Person','Competing_Company','Acquired_Company','Financials',\n",
    "                       'Social_Media','NAICS_Code','Products','Services']}\n",
    "node_type = pd.DataFrame(data = data)\n",
    "node_type"
   ]
  },
  {
   "cell_type": "code",
   "execution_count": 237,
   "metadata": {},
   "outputs": [],
   "source": [
    "node_properties = pd.read_pickle(\"competitor_node_properties.pkl\")\n",
    "edge_properties = pd.read_pickle(\"competitor_edge_properties.pkl\")"
   ]
  },
  {
   "cell_type": "code",
   "execution_count": 238,
   "metadata": {},
   "outputs": [],
   "source": [
    "# creating connections table for Neo4j insertion\n",
    "connections= pd.DataFrame(columns=['Node_Property_Key','Edge_Property_Key','Node_Property_Key_2'])"
   ]
  },
  {
   "cell_type": "code",
   "execution_count": 239,
   "metadata": {},
   "outputs": [],
   "source": [
    "conn = list(set(edge_properties['Edge_Primary_Key']))\n",
    "for i in range(len(conn)):\n",
    "    t = {'Node_Property_Key': [0], 'Edge_Property_Key': [i], \n",
    "         'Node_Property_Key_2' : [i+1]}\n",
    "    temp_conn = pd.DataFrame(data = t)\n",
    "    connections = connections.append(temp_conn, ignore_index = True)"
   ]
  },
  {
   "cell_type": "markdown",
   "metadata": {},
   "source": [
    "# Append acquired_date"
   ]
  },
  {
   "cell_type": "code",
   "execution_count": 240,
   "metadata": {},
   "outputs": [],
   "source": [
    "node_properties_temp = pd.read_pickle(\"acquisition_node_properties.pkl\")\n",
    "edge_properties_temp = pd.read_pickle(\"acquisition_edge_properties.pkl\")\n",
    "node_list = list()\n",
    "primary_comp = node_properties.loc[node_properties['Property'] == 'Cisco Systems', 'Node_Primary_Key'].iloc[0]\n",
    "\n",
    "count = len(node_properties['Node_Primary_Key'])\n",
    "for i in range(len(node_properties_temp)):\n",
    "    node_key = node_properties['Node_Primary_Key'][count-8] + node_properties_temp['Node_Primary_Key'][i] + 1\n",
    "    t = {'Node_Primary_Key': [node_key], 'Node_Type_Key': [node_properties_temp['Node_Type_Key'][i]], \n",
    "         'Property_Name' : [node_properties_temp['Property_Name'][i]], \n",
    "         'Property' : [node_properties_temp['Property'][i]]}\n",
    "    node_list.append(node_key)\n",
    "    temp_node = pd.DataFrame(data = t)\n",
    "    node_properties = node_properties.append(temp_node, ignore_index = True)\n",
    "node_list = list(set(node_list))\n",
    "\n",
    "count = len(edge_properties['Edge_Primary_Key'])\n",
    "for i in range(len(edge_properties_temp)):\n",
    "    key = edge_properties['Edge_Primary_Key'][count-1] + edge_properties_temp['Edge_Primary_Key'][i] + 1\n",
    "    t = {'Edge_Primary_Key': [key], \n",
    "         'Edge_Type_Key': edge_properties_temp['Edge_Type_Key'][i], \n",
    "         'Property_Name': edge_properties_temp['Property_Name'][i], \n",
    "         'Property': [edge_properties_temp['Property'][i]]}\n",
    "    c = {'Node_Property_Key': [primary_comp], 'Edge_Property_Key': [key], \n",
    "         'Node_Property_Key_2': [node_list[i]]}\n",
    "    temp_edge = pd.DataFrame(data = t)\n",
    "    temp_conn = pd.DataFrame(data = c)\n",
    "    edge_properties = edge_properties.append(temp_edge, ignore_index = True)\n",
    "    connections = connections.append(temp_conn, ignore_index = True)"
   ]
  },
  {
   "cell_type": "markdown",
   "metadata": {},
   "source": [
    "# Creating Financial Nodes"
   ]
  },
  {
   "cell_type": "code",
   "execution_count": 241,
   "metadata": {},
   "outputs": [],
   "source": [
    "node_properties_temp = pd.read_pickle('financials_node_properties_2.pkl')\n",
    "edge_properties_temp = pd.read_pickle('financials_edge_properties.pkl')\n",
    "conn = node_properties['Property'][0:17].tolist()\n",
    "node_list = list()\n",
    "\n",
    "primary_comp = node_properties.loc[node_properties['Property'] == 'Cisco Systems', 'Node_Primary_Key'].iloc[0]\n",
    "\n",
    "count = len(node_properties['Node_Primary_Key'])\n",
    "current_max_nodes = max(node_properties['Node_Primary_Key'])\n",
    "add_temp = 0\n",
    "for i in range(len(node_properties_temp)):\n",
    "    for j in range(len(conn)):\n",
    "        if conn[j] == node_properties_temp['Node_Primary_Key'][i]:\n",
    "            add_temp = 1 + j\n",
    "    node_key = current_max_nodes + add_temp\n",
    "    node_properties.index[node_properties['Property'] == node_properties_temp['Node_Primary_Key'][i]][0]\n",
    "    t = {'Node_Primary_Key': [node_key], 'Node_Type_Key': [node_properties_temp['Node_Type_Key'][i]], \n",
    "         'Property_Name' : [node_properties_temp['Property_Name'][i]], \n",
    "         'Property' : [node_properties_temp['Property'][i]]}\n",
    "    node_list.append(node_key)\n",
    "    temp_node = pd.DataFrame(data = t)\n",
    "    node_properties = node_properties.append(temp_node, ignore_index = True)\n",
    "node_list = list(set(node_list))\n",
    "\n",
    "current_max_edges = max(edge_properties['Edge_Primary_Key'])\n",
    "add_temp = 0\n",
    "for i in range(len(edge_properties_temp)):\n",
    "    for j in range(len(conn)):\n",
    "        if conn[j] == edge_properties_temp['Edge_Primary_Key'][i]:\n",
    "            prime = j\n",
    "            add_temp = 1 + j\n",
    "    key = current_max_edges + add_temp\n",
    "    t = {'Edge_Primary_Key': [key], \n",
    "         'Edge_Type_Key': edge_properties_temp['Edge_Type_Key'][i], \n",
    "         'Property_Name': edge_properties_temp['Property_Name'][i], \n",
    "         'Property': [edge_properties_temp['Property'][i]]}\n",
    "    \n",
    "    c = {'Node_Property_Key': [prime], 'Edge_Property_Key': [key], \n",
    "         'Node_Property_Key_2': [node_list[i]]}\n",
    "    temp_edge = pd.DataFrame(data = t)\n",
    "    temp_conn = pd.DataFrame(data = c)\n",
    "    edge_properties = edge_properties.append(temp_edge, ignore_index = True)\n",
    "    connections = connections.append(temp_conn, ignore_index = True)"
   ]
  },
  {
   "cell_type": "markdown",
   "metadata": {},
   "source": [
    "# Creating NAICS Nodes and Edges"
   ]
  },
  {
   "cell_type": "code",
   "execution_count": 242,
   "metadata": {},
   "outputs": [],
   "source": [
    "node_properties_temp = pd.read_pickle(\"NAICS_node_properties.pkl\")\n",
    "edge_properties_temp = pd.read_pickle('NAICS_edge_properties.pkl')\n",
    "connections_temp = pd.read_pickle(\"NAICS_conn_properties.pkl\")"
   ]
  },
  {
   "cell_type": "code",
   "execution_count": 243,
   "metadata": {
    "scrolled": true
   },
   "outputs": [],
   "source": [
    "#Shifting Nodes\n",
    "last = len(node_properties['Node_Primary_Key'])\n",
    "for i in range(len(node_properties_temp)):\n",
    "    node_properties_temp['Node_Primary_Key'][i] = 1 + node_properties_temp['Node_Primary_Key'][i] + node_properties['Node_Primary_Key'][last-1]\n",
    "    \n",
    "for i in range(len(connections_temp)):   \n",
    "    connections_temp['Node_Property_Key'][i] = 1 + connections_temp['Node_Property_Key'][i] + node_properties['Node_Primary_Key'][last-1]\n",
    "    connections_temp['Node_Property_Key_2'][i] = 1 + connections_temp['Node_Property_Key_2'][i] + node_properties['Node_Primary_Key'][last-1]\n",
    "\n",
    "last = len(edge_properties['Edge_Primary_Key'])\n",
    "for i in range(len(connections_temp)):\n",
    "    connections_temp['Edge_Property_Key'][i] = 1 + connections_temp['Edge_Property_Key'][i] + edge_properties['Edge_Primary_Key'][last-1]\n",
    "    edge_properties_temp['Edge_Primary_Key'][i] = 1 + edge_properties_temp['Edge_Primary_Key'][i] + edge_properties['Edge_Primary_Key'][last-1]\n",
    "\n",
    "last = len(edge_properties['Edge_Primary_Key'])\n",
    "edge_conn_list = list()\n",
    "for i in range(len(connections_temp),len(edge_properties_temp)):\n",
    "    edge_properties_temp['Edge_Primary_Key'][i] = 1 + edge_properties_temp['Edge_Primary_Key'][i] + edge_properties['Edge_Primary_Key'][last-1]\n",
    "    edge_conn_list.append(edge_properties_temp['Edge_Primary_Key'][i])\n",
    "    \n",
    "sub_count = 0\n",
    "for i in range(262,279):\n",
    "    node_b = i\n",
    "    company = node_properties_temp[node_properties_temp['Node_Primary_Key'] == i].reset_index()['Property'][0][:-6]\n",
    "    node_a = node_properties[node_properties['Property'] == company].reset_index()['Node_Primary_Key'][0]\n",
    "    \n",
    "    c = {'Node_Property_Key':[node_a], 'Edge_Property_Key': [edge_conn_list[sub_count]], 'Node_Property_Key_2': [node_b]}\n",
    "    temp_conn = pd.DataFrame(data = c)\n",
    "    connections_temp = connections_temp.append(temp_conn, ignore_index = True)\n",
    "    sub_count+=1"
   ]
  },
  {
   "cell_type": "code",
   "execution_count": 244,
   "metadata": {},
   "outputs": [],
   "source": [
    "connections = connections.append(connections_temp, ignore_index = True)\n",
    "node_properties = node_properties.append(node_properties_temp, ignore_index = True)\n",
    "edge_properties = edge_properties.append(edge_properties_temp, ignore_index = True)"
   ]
  },
  {
   "cell_type": "markdown",
   "metadata": {},
   "source": [
    "# Competitor CEO"
   ]
  },
  {
   "cell_type": "code",
   "execution_count": 245,
   "metadata": {},
   "outputs": [],
   "source": [
    "node_properties_temp = pd.read_pickle(\"people_node_properties.pkl\")\n",
    "edge_properties_temp = pd.read_pickle('people_edge_properties.pkl')\n",
    "# creating connections table for Neo4j insertion\n",
    "connections_temp = pd.DataFrame(columns=['Node_Property_Key','Edge_Property_Key','Node_Property_Key_2'])"
   ]
  },
  {
   "cell_type": "code",
   "execution_count": 246,
   "metadata": {
    "scrolled": true
   },
   "outputs": [],
   "source": [
    "last = len(node_properties['Node_Primary_Key'])\n",
    "for i in range(len(node_properties_temp)):\n",
    "    node_properties_temp['Node_Primary_Key'][i] = 1 + node_properties_temp['Node_Primary_Key'][i] + node_properties['Node_Primary_Key'][last-1]\n",
    "    \n",
    "last = len(edge_properties['Edge_Primary_Key'])\n",
    "for i in range(len(edge_properties_temp)):\n",
    "    edge_properties_temp['Edge_Primary_Key'][i] = 1 + edge_properties_temp['Edge_Primary_Key'][i] + edge_properties['Edge_Primary_Key'][last-1]\n",
    "\n",
    "nc = 0 \n",
    "for i in range(len(edge_properties_temp)):\n",
    "    c = {'Node_Property_Key':[i], 'Edge_Property_Key': [edge_properties_temp['Edge_Primary_Key'][i]],'Node_Property_Key_2': [node_properties_temp['Node_Primary_Key'][nc]]}\n",
    "    temp_conn = pd.DataFrame(data = c)\n",
    "    connections_temp = connections_temp.append(temp_conn, ignore_index = True)\n",
    "    nc += 3"
   ]
  },
  {
   "cell_type": "code",
   "execution_count": 247,
   "metadata": {
    "scrolled": true
   },
   "outputs": [],
   "source": [
    "connections = connections.append(connections_temp, ignore_index = True)\n",
    "node_properties = node_properties.append(node_properties_temp, ignore_index = True)\n",
    "edge_properties = edge_properties.append(edge_properties_temp, ignore_index = True)"
   ]
  },
  {
   "cell_type": "markdown",
   "metadata": {},
   "source": [
    "# Social Media Data"
   ]
  },
  {
   "cell_type": "code",
   "execution_count": 248,
   "metadata": {
    "scrolled": true
   },
   "outputs": [],
   "source": [
    "node_properties_temp = pd.read_pickle(\"node_properties_social_media.pkl\")\n",
    "connections_temp = pd.DataFrame(columns=['Node_Property_Key','Edge_Property_Key','Node_Property_Key_2'])"
   ]
  },
  {
   "cell_type": "code",
   "execution_count": 249,
   "metadata": {},
   "outputs": [
    {
     "data": {
      "text/html": [
       "<div>\n",
       "<style scoped>\n",
       "    .dataframe tbody tr th:only-of-type {\n",
       "        vertical-align: middle;\n",
       "    }\n",
       "\n",
       "    .dataframe tbody tr th {\n",
       "        vertical-align: top;\n",
       "    }\n",
       "\n",
       "    .dataframe thead th {\n",
       "        text-align: right;\n",
       "    }\n",
       "</style>\n",
       "<table border=\"1\" class=\"dataframe\">\n",
       "  <thead>\n",
       "    <tr style=\"text-align: right;\">\n",
       "      <th></th>\n",
       "      <th>Edge_Primary_Key</th>\n",
       "      <th>Edge_Type_Key</th>\n",
       "      <th>Property_Name</th>\n",
       "      <th>Property</th>\n",
       "    </tr>\n",
       "  </thead>\n",
       "  <tbody>\n",
       "  </tbody>\n",
       "</table>\n",
       "</div>"
      ],
      "text/plain": [
       "Empty DataFrame\n",
       "Columns: [Edge_Primary_Key, Edge_Type_Key, Property_Name, Property]\n",
       "Index: []"
      ]
     },
     "execution_count": 249,
     "metadata": {},
     "output_type": "execute_result"
    }
   ],
   "source": [
    "# creating edge properties table for Neo4j insertion\n",
    "edge_properties_p = pd.DataFrame(columns = ['Edge_Primary_Key','Edge_Type_Key','Property_Name','Property'])\n",
    "edge_properties_p"
   ]
  },
  {
   "cell_type": "code",
   "execution_count": 250,
   "metadata": {},
   "outputs": [
    {
     "name": "stderr",
     "output_type": "stream",
     "text": [
      "/anaconda3/lib/python3.6/site-packages/ipykernel_launcher.py:26: SettingWithCopyWarning: \n",
      "A value is trying to be set on a copy of a slice from a DataFrame\n",
      "\n",
      "See the caveats in the documentation: http://pandas.pydata.org/pandas-docs/stable/user_guide/indexing.html#returning-a-view-versus-a-copy\n"
     ]
    }
   ],
   "source": [
    "#Append nodes\n",
    "last_edge = len(edge_properties['Edge_Primary_Key'])\n",
    "count_conn_edge = 0\n",
    "edge_list = list()\n",
    "for i in range(17):\n",
    "    temp_id = 1 + i + edge_properties['Edge_Primary_Key'][last_edge-1]\n",
    "    \n",
    "    e = {'Edge_Primary_Key': [temp_id, temp_id], 'Edge_Type_Key': [7, 7], 'Property_Name': ['Last_queried', 'Query_range(days)'], \n",
    "         'Property': ['12/2/2019', '10']}\n",
    "    temp_edge = pd.DataFrame(data = e)\n",
    "    edge_properties_p = edge_properties_p.append(temp_edge, ignore_index = True)\n",
    "    edge_list.append(temp_id)\n",
    "\n",
    "last = len(node_properties['Node_Primary_Key'])\n",
    "check = 0\n",
    "count = 0\n",
    "node_list = list()\n",
    "for i in range(len(node_properties_temp)):\n",
    "    if check < 1:\n",
    "        temp = 1 + count + node_properties['Node_Primary_Key'][last-1]\n",
    "        node_list.append(temp)\n",
    "        check += 1\n",
    "        count += 1\n",
    "    else:\n",
    "        check -= 1\n",
    "    node_properties_temp['Node_Primary_Key'][i] = temp\n",
    "\n",
    "for i in range(17):\n",
    "    c = {'Node_Property_Key':[i], 'Edge_Property_Key': [edge_list[i]],'Node_Property_Key_2': [node_list[i]]}\n",
    "    temp_conn = pd.DataFrame(data = c)\n",
    "    connections_temp = connections_temp.append(temp_conn, ignore_index = True)        "
   ]
  },
  {
   "cell_type": "code",
   "execution_count": 251,
   "metadata": {
    "scrolled": true
   },
   "outputs": [
    {
     "name": "stderr",
     "output_type": "stream",
     "text": [
      "/anaconda3/lib/python3.6/site-packages/ipykernel_launcher.py:7: SettingWithCopyWarning: \n",
      "A value is trying to be set on a copy of a slice from a DataFrame\n",
      "\n",
      "See the caveats in the documentation: http://pandas.pydata.org/pandas-docs/stable/user_guide/indexing.html#returning-a-view-versus-a-copy\n",
      "  import sys\n"
     ]
    }
   ],
   "source": [
    "extra = pd.read_excel('Social_Media_Followers.xlsx')\n",
    "e_count = 0\n",
    "e2_dount = 0\n",
    "for i in range(len(extra)):\n",
    "    if (not i % 2) and (i != 0):\n",
    "        e2_dount += 1\n",
    "    extra['Node_Primary_Key'][i] = node_list[e2_dount]\n",
    "    "
   ]
  },
  {
   "cell_type": "code",
   "execution_count": 252,
   "metadata": {},
   "outputs": [],
   "source": [
    "node_properties_temp = node_properties_temp.append(extra, ignore_index = True)\n",
    "node_properties = node_properties.append(node_properties_temp, ignore_index = True)\n",
    "connections = connections.append(connections_temp, ignore_index = True)\n",
    "edge_properties = edge_properties.append(edge_properties_p, ignore_index = True)"
   ]
  },
  {
   "cell_type": "markdown",
   "metadata": {},
   "source": [
    "# Services Nodes"
   ]
  },
  {
   "cell_type": "code",
   "execution_count": 253,
   "metadata": {},
   "outputs": [],
   "source": [
    "node_properties_temp = pd.read_pickle(\"services_node_properties.pkl\")\n",
    "edge_properties_temp = pd.read_pickle('services_edge_properties.pkl')\n",
    "connections_temp = pd.read_pickle(\"services_conn_properties.pkl\")"
   ]
  },
  {
   "cell_type": "code",
   "execution_count": 254,
   "metadata": {},
   "outputs": [],
   "source": [
    "last = len(node_properties['Node_Primary_Key'])\n",
    "\n",
    "for i in range(len(node_properties_temp)):\n",
    "    temp = 1 + node_properties_temp['Node_Primary_Key'][i] + node_properties['Node_Primary_Key'][last-1]\n",
    "    node_properties_temp['Node_Primary_Key'][i] = temp\n",
    "    \n",
    "for i in range(len(connections_temp)):\n",
    "    temp = 1 + connections_temp['Node_Property_Key_2'][i] + node_properties['Node_Primary_Key'][last-1]\n",
    "    connections_temp['Node_Property_Key_2'][i] = temp\n",
    "\n",
    "last = len(edge_properties['Edge_Primary_Key'])\n",
    "for i in range(len(edge_properties_temp)):\n",
    "    temp =  1 + edge_properties_temp['Edge_Primary_Key'][i] + edge_properties['Edge_Primary_Key'][last-1]\n",
    "    edge_properties_temp['Edge_Primary_Key'][i] = temp\n",
    "    connections_temp['Edge_Property_Key'][i] = temp"
   ]
  },
  {
   "cell_type": "code",
   "execution_count": 255,
   "metadata": {},
   "outputs": [],
   "source": [
    "node_properties = node_properties.append(node_properties_temp, ignore_index = True)\n",
    "connections = connections.append(connections_temp, ignore_index = True)\n",
    "edge_properties = edge_properties.append(edge_properties_temp, ignore_index = True)"
   ]
  },
  {
   "cell_type": "markdown",
   "metadata": {},
   "source": [
    "# Save Data for Insertion"
   ]
  },
  {
   "cell_type": "code",
   "execution_count": 256,
   "metadata": {},
   "outputs": [],
   "source": [
    "edge_properties.to_pickle(\"All_edge_properties.pkl\")\n",
    "node_properties.to_pickle(\"All_node_properties.pkl\")\n",
    "connections.to_pickle(\"All_connections.pkl\")\n",
    "node_type.to_pickle(\"All_node_types.pkl\")\n",
    "edge_type.to_pickle(\"All_edge_types.pkl\")"
   ]
  }
 ],
 "metadata": {
  "kernelspec": {
   "display_name": "Python 3",
   "language": "python",
   "name": "python3"
  },
  "language_info": {
   "codemirror_mode": {
    "name": "ipython",
    "version": 3
   },
   "file_extension": ".py",
   "mimetype": "text/x-python",
   "name": "python",
   "nbconvert_exporter": "python",
   "pygments_lexer": "ipython3",
   "version": "3.6.8"
  }
 },
 "nbformat": 4,
 "nbformat_minor": 2
}
