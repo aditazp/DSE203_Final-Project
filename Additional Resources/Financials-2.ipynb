{
 "cells": [
  {
   "cell_type": "markdown",
   "metadata": {},
   "source": [
    "# Financial Data Nodes / Relationships"
   ]
  },
  {
   "cell_type": "markdown",
   "metadata": {},
   "source": [
    "## Libraries"
   ]
  },
  {
   "cell_type": "code",
   "execution_count": 1,
   "metadata": {
    "ExecuteTime": {
     "end_time": "2019-12-03T20:12:40.986181Z",
     "start_time": "2019-12-03T20:12:40.983631Z"
    }
   },
   "outputs": [],
   "source": [
    "# !pip install yahoofinancials\n",
    "\n",
    "import json\n",
    "import pandas as pd\n",
    "import re\n",
    "from yahoofinancials import YahooFinancials"
   ]
  },
  {
   "cell_type": "markdown",
   "metadata": {},
   "source": [
    "## Load Data from Wikipedia Scraping"
   ]
  },
  {
   "cell_type": "code",
   "execution_count": 2,
   "metadata": {
    "ExecuteTime": {
     "end_time": "2019-12-03T20:12:41.395847Z",
     "start_time": "2019-12-03T20:12:41.391741Z"
    }
   },
   "outputs": [],
   "source": [
    "with open('new_competitors.json') as json_file:\n",
    "    data = json.load(json_file)"
   ]
  },
  {
   "cell_type": "markdown",
   "metadata": {},
   "source": [
    "## Create template relationship tables"
   ]
  },
  {
   "cell_type": "code",
   "execution_count": 3,
   "metadata": {
    "ExecuteTime": {
     "end_time": "2019-12-03T20:12:41.718557Z",
     "start_time": "2019-12-03T20:12:41.711234Z"
    }
   },
   "outputs": [
    {
     "data": {
      "text/html": [
       "<div>\n",
       "<style scoped>\n",
       "    .dataframe tbody tr th:only-of-type {\n",
       "        vertical-align: middle;\n",
       "    }\n",
       "\n",
       "    .dataframe tbody tr th {\n",
       "        vertical-align: top;\n",
       "    }\n",
       "\n",
       "    .dataframe thead th {\n",
       "        text-align: right;\n",
       "    }\n",
       "</style>\n",
       "<table border=\"1\" class=\"dataframe\">\n",
       "  <thead>\n",
       "    <tr style=\"text-align: right;\">\n",
       "      <th></th>\n",
       "      <th>Primary_Key</th>\n",
       "      <th>Node</th>\n",
       "    </tr>\n",
       "  </thead>\n",
       "  <tbody>\n",
       "  </tbody>\n",
       "</table>\n",
       "</div>"
      ],
      "text/plain": [
       "Empty DataFrame\n",
       "Columns: [Primary_Key, Node]\n",
       "Index: []"
      ]
     },
     "execution_count": 3,
     "metadata": {},
     "output_type": "execute_result"
    }
   ],
   "source": [
    "node_type = pd.DataFrame(data=None,columns = ['Primary_Key','Node'])\n",
    "node_type.head()"
   ]
  },
  {
   "cell_type": "code",
   "execution_count": 4,
   "metadata": {
    "ExecuteTime": {
     "end_time": "2019-12-03T20:12:42.056741Z",
     "start_time": "2019-12-03T20:12:42.049098Z"
    }
   },
   "outputs": [
    {
     "data": {
      "text/html": [
       "<div>\n",
       "<style scoped>\n",
       "    .dataframe tbody tr th:only-of-type {\n",
       "        vertical-align: middle;\n",
       "    }\n",
       "\n",
       "    .dataframe tbody tr th {\n",
       "        vertical-align: top;\n",
       "    }\n",
       "\n",
       "    .dataframe thead th {\n",
       "        text-align: right;\n",
       "    }\n",
       "</style>\n",
       "<table border=\"1\" class=\"dataframe\">\n",
       "  <thead>\n",
       "    <tr style=\"text-align: right;\">\n",
       "      <th></th>\n",
       "      <th>Edge_Primary_Key</th>\n",
       "      <th>Edge_Type</th>\n",
       "    </tr>\n",
       "  </thead>\n",
       "  <tbody>\n",
       "  </tbody>\n",
       "</table>\n",
       "</div>"
      ],
      "text/plain": [
       "Empty DataFrame\n",
       "Columns: [Edge_Primary_Key, Edge_Type]\n",
       "Index: []"
      ]
     },
     "execution_count": 4,
     "metadata": {},
     "output_type": "execute_result"
    }
   ],
   "source": [
    "edge_type = pd.DataFrame(data=None,columns = ['Edge_Primary_Key','Edge_Type'])\n",
    "edge_type.head()"
   ]
  },
  {
   "cell_type": "code",
   "execution_count": 19,
   "metadata": {
    "ExecuteTime": {
     "end_time": "2019-12-03T20:12:42.363219Z",
     "start_time": "2019-12-03T20:12:42.353951Z"
    }
   },
   "outputs": [
    {
     "data": {
      "text/html": [
       "<div>\n",
       "<style scoped>\n",
       "    .dataframe tbody tr th:only-of-type {\n",
       "        vertical-align: middle;\n",
       "    }\n",
       "\n",
       "    .dataframe tbody tr th {\n",
       "        vertical-align: top;\n",
       "    }\n",
       "\n",
       "    .dataframe thead th {\n",
       "        text-align: right;\n",
       "    }\n",
       "</style>\n",
       "<table border=\"1\" class=\"dataframe\">\n",
       "  <thead>\n",
       "    <tr style=\"text-align: right;\">\n",
       "      <th></th>\n",
       "      <th>Edge_Primary_Key</th>\n",
       "      <th>Edge_Type_Key</th>\n",
       "      <th>Property_Name</th>\n",
       "      <th>Property</th>\n",
       "    </tr>\n",
       "  </thead>\n",
       "  <tbody>\n",
       "  </tbody>\n",
       "</table>\n",
       "</div>"
      ],
      "text/plain": [
       "Empty DataFrame\n",
       "Columns: [Edge_Primary_Key, Edge_Type_Key, Property_Name, Property]\n",
       "Index: []"
      ]
     },
     "execution_count": 19,
     "metadata": {},
     "output_type": "execute_result"
    }
   ],
   "source": [
    "edge_properties = pd.DataFrame(data=None, columns = ['Edge_Primary_Key','Edge_Type_Key','Property_Name','Property'])\n",
    "edge_properties.head()"
   ]
  },
  {
   "cell_type": "code",
   "execution_count": 13,
   "metadata": {
    "ExecuteTime": {
     "end_time": "2019-12-03T20:12:42.646675Z",
     "start_time": "2019-12-03T20:12:42.637748Z"
    }
   },
   "outputs": [
    {
     "data": {
      "text/html": [
       "<div>\n",
       "<style scoped>\n",
       "    .dataframe tbody tr th:only-of-type {\n",
       "        vertical-align: middle;\n",
       "    }\n",
       "\n",
       "    .dataframe tbody tr th {\n",
       "        vertical-align: top;\n",
       "    }\n",
       "\n",
       "    .dataframe thead th {\n",
       "        text-align: right;\n",
       "    }\n",
       "</style>\n",
       "<table border=\"1\" class=\"dataframe\">\n",
       "  <thead>\n",
       "    <tr style=\"text-align: right;\">\n",
       "      <th></th>\n",
       "      <th>Node_Property_Key</th>\n",
       "      <th>Edge_Property_Key</th>\n",
       "      <th>Node_Property_Key_2</th>\n",
       "    </tr>\n",
       "  </thead>\n",
       "  <tbody>\n",
       "  </tbody>\n",
       "</table>\n",
       "</div>"
      ],
      "text/plain": [
       "Empty DataFrame\n",
       "Columns: [Node_Property_Key, Edge_Property_Key, Node_Property_Key_2]\n",
       "Index: []"
      ]
     },
     "execution_count": 13,
     "metadata": {},
     "output_type": "execute_result"
    }
   ],
   "source": [
    "connections = pd.DataFrame(data=None, columns = ['Node_Property_Key','Edge_Property_Key','Node_Property_Key_2'])\n",
    "connections.head()"
   ]
  },
  {
   "cell_type": "code",
   "execution_count": 14,
   "metadata": {
    "ExecuteTime": {
     "end_time": "2019-12-03T20:12:42.947248Z",
     "start_time": "2019-12-03T20:12:42.938652Z"
    }
   },
   "outputs": [
    {
     "data": {
      "text/html": [
       "<div>\n",
       "<style scoped>\n",
       "    .dataframe tbody tr th:only-of-type {\n",
       "        vertical-align: middle;\n",
       "    }\n",
       "\n",
       "    .dataframe tbody tr th {\n",
       "        vertical-align: top;\n",
       "    }\n",
       "\n",
       "    .dataframe thead th {\n",
       "        text-align: right;\n",
       "    }\n",
       "</style>\n",
       "<table border=\"1\" class=\"dataframe\">\n",
       "  <thead>\n",
       "    <tr style=\"text-align: right;\">\n",
       "      <th></th>\n",
       "      <th>Node_Primary_Key</th>\n",
       "      <th>Node_Type_Key</th>\n",
       "      <th>Property_Name</th>\n",
       "      <th>Property</th>\n",
       "    </tr>\n",
       "  </thead>\n",
       "  <tbody>\n",
       "  </tbody>\n",
       "</table>\n",
       "</div>"
      ],
      "text/plain": [
       "Empty DataFrame\n",
       "Columns: [Node_Primary_Key, Node_Type_Key, Property_Name, Property]\n",
       "Index: []"
      ]
     },
     "execution_count": 14,
     "metadata": {},
     "output_type": "execute_result"
    }
   ],
   "source": [
    "node_properties = pd.DataFrame(data=None, columns = ['Node_Primary_Key','Node_Type_Key','Property_Name','Property'])\n",
    "\n",
    "node_properties.head()"
   ]
  },
  {
   "cell_type": "code",
   "execution_count": 15,
   "metadata": {
    "ExecuteTime": {
     "end_time": "2019-12-03T20:12:43.181577Z",
     "start_time": "2019-12-03T20:12:43.172507Z"
    }
   },
   "outputs": [
    {
     "data": {
      "text/html": [
       "<div>\n",
       "<style scoped>\n",
       "    .dataframe tbody tr th:only-of-type {\n",
       "        vertical-align: middle;\n",
       "    }\n",
       "\n",
       "    .dataframe tbody tr th {\n",
       "        vertical-align: top;\n",
       "    }\n",
       "\n",
       "    .dataframe thead th {\n",
       "        text-align: right;\n",
       "    }\n",
       "</style>\n",
       "<table border=\"1\" class=\"dataframe\">\n",
       "  <thead>\n",
       "    <tr style=\"text-align: right;\">\n",
       "      <th></th>\n",
       "      <th>Edge_Primary_Key</th>\n",
       "      <th>Edge_Type</th>\n",
       "    </tr>\n",
       "  </thead>\n",
       "  <tbody>\n",
       "    <tr>\n",
       "      <th>0</th>\n",
       "      <td>1</td>\n",
       "      <td>Has_Financials</td>\n",
       "    </tr>\n",
       "    <tr>\n",
       "      <th>1</th>\n",
       "      <td>1</td>\n",
       "      <td>Has_Financials</td>\n",
       "    </tr>\n",
       "  </tbody>\n",
       "</table>\n",
       "</div>"
      ],
      "text/plain": [
       "  Edge_Primary_Key       Edge_Type\n",
       "0                1  Has_Financials\n",
       "1                1  Has_Financials"
      ]
     },
     "execution_count": 15,
     "metadata": {},
     "output_type": "execute_result"
    }
   ],
   "source": [
    "# Preparing First Edge / relationship\n",
    "edge_type = edge_type.append({'Edge_Primary_Key':1,'Edge_Type':'Has_Financials'},ignore_index=True)\n",
    "edge_type.head()"
   ]
  },
  {
   "cell_type": "code",
   "execution_count": 16,
   "metadata": {
    "ExecuteTime": {
     "end_time": "2019-12-03T20:12:43.427413Z",
     "start_time": "2019-12-03T20:12:43.418658Z"
    }
   },
   "outputs": [
    {
     "data": {
      "text/html": [
       "<div>\n",
       "<style scoped>\n",
       "    .dataframe tbody tr th:only-of-type {\n",
       "        vertical-align: middle;\n",
       "    }\n",
       "\n",
       "    .dataframe tbody tr th {\n",
       "        vertical-align: top;\n",
       "    }\n",
       "\n",
       "    .dataframe thead th {\n",
       "        text-align: right;\n",
       "    }\n",
       "</style>\n",
       "<table border=\"1\" class=\"dataframe\">\n",
       "  <thead>\n",
       "    <tr style=\"text-align: right;\">\n",
       "      <th></th>\n",
       "      <th>Primary_Key</th>\n",
       "      <th>Node</th>\n",
       "    </tr>\n",
       "  </thead>\n",
       "  <tbody>\n",
       "    <tr>\n",
       "      <th>0</th>\n",
       "      <td>3</td>\n",
       "      <td>Financials</td>\n",
       "    </tr>\n",
       "    <tr>\n",
       "      <th>1</th>\n",
       "      <td>3</td>\n",
       "      <td>Financials</td>\n",
       "    </tr>\n",
       "  </tbody>\n",
       "</table>\n",
       "</div>"
      ],
      "text/plain": [
       "  Primary_Key        Node\n",
       "0           3  Financials\n",
       "1           3  Financials"
      ]
     },
     "execution_count": 16,
     "metadata": {},
     "output_type": "execute_result"
    }
   ],
   "source": [
    "# Preparing First Node\n",
    "node_type = node_type.append({'Primary_Key':3,'Node':'Financials'},ignore_index=True)\n",
    "node_type.head()"
   ]
  },
  {
   "cell_type": "markdown",
   "metadata": {},
   "source": [
    "## Populate Information from Wikipedia"
   ]
  },
  {
   "cell_type": "markdown",
   "metadata": {},
   "source": [
    "### Last Revenue Date"
   ]
  },
  {
   "cell_type": "code",
   "execution_count": 20,
   "metadata": {
    "ExecuteTime": {
     "end_time": "2019-12-03T20:12:44.968765Z",
     "start_time": "2019-12-03T20:12:44.914870Z"
    },
    "scrolled": false
   },
   "outputs": [
    {
     "name": "stdout",
     "output_type": "stream",
     "text": [
      "Cisco Systems : 2018\n",
      "VMware : 2018\n",
      "Big Switch Networks : NaN\n",
      "D-Link : 2015\n",
      "Extreme Networks : 2018\n",
      "Arista Networks : 2018\n",
      "Hewlett Packard Enterprise : 2018\n",
      "Juniper Networks : 2018\n",
      "Huawei : 2018\n",
      "Netgear : 2017\n",
      "Cumulus Networks : NaN\n",
      "Allied Telesis : FY 2018\n",
      "NEC : 2019\n",
      "Mellanox Technologies : FY17\n",
      "Dell EMC : NaN\n",
      "ZTE : 2018\n",
      "Lenovo : 2019\n"
     ]
    }
   ],
   "source": [
    "pattern = r'\\((\\d\\d\\d\\d|\\w+|FY.....)\\)' # Find date last revenue reported\n",
    "for i,text in enumerate(data):\n",
    "    try:\n",
    "        result = re.search(pattern,data[i]['Revenue']).groups()[0]\n",
    "        print(data[i]['Title'], ':', result)\n",
    "        # update edge properties\n",
    "        edge_properties = edge_properties.append({'Edge_Primary_Key': data[i]['Title'],\n",
    "                                          'Edge_Type_Key': int(4),\n",
    "                                          'Property_Name': 'last_revenue_date',\n",
    "                                          'Property': result},ignore_index=True)\n",
    "        # update connections\n",
    "        \n",
    "    except:\n",
    "        result = 'NaN'\n",
    "        if data[i]['Title'] == 'Dell EMC':\n",
    "            edge_properties = edge_properties.append({'Edge_Primary_Key': data[i]['Title'],\n",
    "                                              'Edge_Type_Key': 4,\n",
    "                                              'Property_Name': 'last_revenue_date',\n",
    "                                              'Property': 'NaN'},ignore_index=True)\n",
    "        print(data[i]['Title'], ':', result)\n",
    "        continue"
   ]
  },
  {
   "cell_type": "code",
   "execution_count": 21,
   "metadata": {},
   "outputs": [
    {
     "data": {
      "text/html": [
       "<div>\n",
       "<style scoped>\n",
       "    .dataframe tbody tr th:only-of-type {\n",
       "        vertical-align: middle;\n",
       "    }\n",
       "\n",
       "    .dataframe tbody tr th {\n",
       "        vertical-align: top;\n",
       "    }\n",
       "\n",
       "    .dataframe thead th {\n",
       "        text-align: right;\n",
       "    }\n",
       "</style>\n",
       "<table border=\"1\" class=\"dataframe\">\n",
       "  <thead>\n",
       "    <tr style=\"text-align: right;\">\n",
       "      <th></th>\n",
       "      <th>Edge_Primary_Key</th>\n",
       "      <th>Edge_Type_Key</th>\n",
       "      <th>Property_Name</th>\n",
       "      <th>Property</th>\n",
       "    </tr>\n",
       "  </thead>\n",
       "  <tbody>\n",
       "    <tr>\n",
       "      <th>0</th>\n",
       "      <td>Cisco Systems</td>\n",
       "      <td>4</td>\n",
       "      <td>last_revenue_date</td>\n",
       "      <td>2018</td>\n",
       "    </tr>\n",
       "    <tr>\n",
       "      <th>1</th>\n",
       "      <td>VMware</td>\n",
       "      <td>4</td>\n",
       "      <td>last_revenue_date</td>\n",
       "      <td>2018</td>\n",
       "    </tr>\n",
       "    <tr>\n",
       "      <th>2</th>\n",
       "      <td>D-Link</td>\n",
       "      <td>4</td>\n",
       "      <td>last_revenue_date</td>\n",
       "      <td>2015</td>\n",
       "    </tr>\n",
       "    <tr>\n",
       "      <th>3</th>\n",
       "      <td>Extreme Networks</td>\n",
       "      <td>4</td>\n",
       "      <td>last_revenue_date</td>\n",
       "      <td>2018</td>\n",
       "    </tr>\n",
       "    <tr>\n",
       "      <th>4</th>\n",
       "      <td>Arista Networks</td>\n",
       "      <td>4</td>\n",
       "      <td>last_revenue_date</td>\n",
       "      <td>2018</td>\n",
       "    </tr>\n",
       "    <tr>\n",
       "      <th>5</th>\n",
       "      <td>Hewlett Packard Enterprise</td>\n",
       "      <td>4</td>\n",
       "      <td>last_revenue_date</td>\n",
       "      <td>2018</td>\n",
       "    </tr>\n",
       "    <tr>\n",
       "      <th>6</th>\n",
       "      <td>Juniper Networks</td>\n",
       "      <td>4</td>\n",
       "      <td>last_revenue_date</td>\n",
       "      <td>2018</td>\n",
       "    </tr>\n",
       "    <tr>\n",
       "      <th>7</th>\n",
       "      <td>Huawei</td>\n",
       "      <td>4</td>\n",
       "      <td>last_revenue_date</td>\n",
       "      <td>2018</td>\n",
       "    </tr>\n",
       "    <tr>\n",
       "      <th>8</th>\n",
       "      <td>Netgear</td>\n",
       "      <td>4</td>\n",
       "      <td>last_revenue_date</td>\n",
       "      <td>2017</td>\n",
       "    </tr>\n",
       "    <tr>\n",
       "      <th>9</th>\n",
       "      <td>Allied Telesis</td>\n",
       "      <td>4</td>\n",
       "      <td>last_revenue_date</td>\n",
       "      <td>FY 2018</td>\n",
       "    </tr>\n",
       "    <tr>\n",
       "      <th>10</th>\n",
       "      <td>NEC</td>\n",
       "      <td>4</td>\n",
       "      <td>last_revenue_date</td>\n",
       "      <td>2019</td>\n",
       "    </tr>\n",
       "    <tr>\n",
       "      <th>11</th>\n",
       "      <td>Mellanox Technologies</td>\n",
       "      <td>4</td>\n",
       "      <td>last_revenue_date</td>\n",
       "      <td>FY17</td>\n",
       "    </tr>\n",
       "    <tr>\n",
       "      <th>12</th>\n",
       "      <td>Dell EMC</td>\n",
       "      <td>4</td>\n",
       "      <td>last_revenue_date</td>\n",
       "      <td>NaN</td>\n",
       "    </tr>\n",
       "    <tr>\n",
       "      <th>13</th>\n",
       "      <td>ZTE</td>\n",
       "      <td>4</td>\n",
       "      <td>last_revenue_date</td>\n",
       "      <td>2018</td>\n",
       "    </tr>\n",
       "    <tr>\n",
       "      <th>14</th>\n",
       "      <td>Lenovo</td>\n",
       "      <td>4</td>\n",
       "      <td>last_revenue_date</td>\n",
       "      <td>2019</td>\n",
       "    </tr>\n",
       "  </tbody>\n",
       "</table>\n",
       "</div>"
      ],
      "text/plain": [
       "              Edge_Primary_Key Edge_Type_Key      Property_Name Property\n",
       "0                Cisco Systems             4  last_revenue_date     2018\n",
       "1                       VMware             4  last_revenue_date     2018\n",
       "2                       D-Link             4  last_revenue_date     2015\n",
       "3             Extreme Networks             4  last_revenue_date     2018\n",
       "4              Arista Networks             4  last_revenue_date     2018\n",
       "5   Hewlett Packard Enterprise             4  last_revenue_date     2018\n",
       "6             Juniper Networks             4  last_revenue_date     2018\n",
       "7                       Huawei             4  last_revenue_date     2018\n",
       "8                      Netgear             4  last_revenue_date     2017\n",
       "9               Allied Telesis             4  last_revenue_date  FY 2018\n",
       "10                         NEC             4  last_revenue_date     2019\n",
       "11       Mellanox Technologies             4  last_revenue_date     FY17\n",
       "12                    Dell EMC             4  last_revenue_date      NaN\n",
       "13                         ZTE             4  last_revenue_date     2018\n",
       "14                      Lenovo             4  last_revenue_date     2019"
      ]
     },
     "execution_count": 21,
     "metadata": {},
     "output_type": "execute_result"
    }
   ],
   "source": [
    "edge_properties"
   ]
  },
  {
   "cell_type": "code",
   "execution_count": 22,
   "metadata": {
    "ExecuteTime": {
     "end_time": "2019-12-03T20:12:48.410373Z",
     "start_time": "2019-12-03T20:12:48.406021Z"
    }
   },
   "outputs": [],
   "source": [
    "edge_properties.to_pickle('financials_edge_properties.pkl')"
   ]
  },
  {
   "cell_type": "markdown",
   "metadata": {},
   "source": [
    "### Operating Income"
   ]
  },
  {
   "cell_type": "code",
   "execution_count": 12,
   "metadata": {
    "ExecuteTime": {
     "end_time": "2019-12-03T20:12:51.169595Z",
     "start_time": "2019-12-03T20:12:51.126091Z"
    },
    "scrolled": false
   },
   "outputs": [
    {
     "name": "stdout",
     "output_type": "stream",
     "text": [
      "Cisco Systems : 12770000000.0\n",
      "VMware : 2050000000.0\n",
      "Big Switch Networks : NaN\n",
      "D-Link : NaN\n",
      "Extreme Networks : -733000.0\n",
      "Arista Networks : 273300000.0\n",
      "Hewlett Packard Enterprise : 1850000000.0\n",
      "Juniper Networks : 848000000.0\n",
      "Huawei : 10689000000.0\n",
      "Netgear : 86580000.0\n",
      "Cumulus Networks : NaN\n",
      "Allied Telesis : NaN\n",
      "NEC : NaN\n",
      "Mellanox Technologies : 118310000.0\n",
      "Dell EMC : NaN\n",
      "ZTE : NaN\n",
      "Lenovo : 1178000.0\n"
     ]
    }
   ],
   "source": [
    "pattern = r'\\$(.+)(illion)' # Find operating income with \"m\" or \"b\" for millions/billions\n",
    "for i,text in enumerate(data):\n",
    "    try:\n",
    "        result = re.search(pattern,data[i]['Operating income']).groups()[0]\n",
    "        result = result.lstrip()\n",
    "        if 'b' in result:\n",
    "            result = round(float(result.split()[0]) * 1e9,0)\n",
    "        elif ('m' in result) or ('M' in result):\n",
    "            result = round(float(result.split()[0]) * 1e6,0)\n",
    "        print(data[i]['Title'], ':', result)\n",
    "        # update node properties\n",
    "        node_properties = node_properties.append({'Node_Primary_Key': data[i]['Title'],\n",
    "                                          'Node_Type_Key': 4,\n",
    "                                          'Property_Name': 'operating_income',\n",
    "                                          'Property': result},ignore_index=True)\n",
    "\n",
    "    except:\n",
    "        result = 'NaN'\n",
    "        print(data[i]['Title'], ':', result)\n",
    "        continue"
   ]
  },
  {
   "cell_type": "markdown",
   "metadata": {},
   "source": [
    "### Net Income"
   ]
  },
  {
   "cell_type": "code",
   "execution_count": 13,
   "metadata": {
    "ExecuteTime": {
     "end_time": "2019-12-03T20:12:52.071376Z",
     "start_time": "2019-12-03T20:12:52.022900Z"
    },
    "scrolled": false
   },
   "outputs": [
    {
     "name": "stdout",
     "output_type": "stream",
     "text": [
      "Cisco Systems : 110000000.0\n",
      "VMware : 2420000000.0\n",
      "Big Switch Networks : NaN\n",
      "D-Link : NaN\n",
      "Extreme Networks : -8500000.0\n",
      "Arista Networks : 328100000.0\n",
      "Hewlett Packard Enterprise : 1900000000.0\n",
      "Juniper Networks : 306000000.0\n",
      "Huawei : 8656000000.0\n",
      "Netgear : 19440000.0\n",
      "Cumulus Networks : NaN\n",
      "Allied Telesis : 1900000.0\n",
      "NEC : NaN\n",
      "Mellanox Technologies : 111380000.0\n",
      "Dell EMC : NaN\n",
      "ZTE : NaN\n",
      "Lenovo : 597000000.0\n"
     ]
    }
   ],
   "source": [
    "pattern = r'\\$(.+)(illion)' # Find operating income with \"m\" or \"b\" for millions/billions\n",
    "for i,text in enumerate(data):\n",
    "    try:\n",
    "        result = re.search(pattern,data[i]['Net income']).groups()[0]\n",
    "        result = result.strip('(')\n",
    "        result = result.lstrip()\n",
    "        if 'b' in result:\n",
    "            result = round(float(result.split()[0]) * 1e9,0)\n",
    "        elif ('m' in result) or ('M' in result):\n",
    "            result = round(float(result.split()[0]) * 1e6,0)        \n",
    "        print(data[i]['Title'], ':', result)\n",
    "\n",
    "        # update node properties\n",
    "        node_properties = node_properties.append({'Node_Primary_Key': data[i]['Title'],\n",
    "                                          'Node_Type_Key': 4,\n",
    "                                          'Property_Name': 'net_income',\n",
    "                                          'Property': result},ignore_index=True)\n",
    "        \n",
    "    except:\n",
    "        result = 'NaN'\n",
    "        print(data[i]['Title'], ':', result)\n",
    "        continue"
   ]
  },
  {
   "cell_type": "markdown",
   "metadata": {},
   "source": [
    "### Total Assets"
   ]
  },
  {
   "cell_type": "code",
   "execution_count": 14,
   "metadata": {
    "ExecuteTime": {
     "end_time": "2019-12-03T20:12:52.870568Z",
     "start_time": "2019-12-03T20:12:52.833984Z"
    }
   },
   "outputs": [
    {
     "name": "stdout",
     "output_type": "stream",
     "text": [
      "Cisco Systems : 108780000000.0\n",
      "VMware : 14662000000.0\n",
      "Big Switch Networks : NaN\n",
      "D-Link : NaN\n",
      "Extreme Networks : NaN\n",
      "Arista Networks : 3082000000.0\n",
      "Hewlett Packard Enterprise : 55490000000.0\n",
      "Juniper Networks : NaN\n",
      "Huawei : 97109000000.0\n",
      "Netgear : 1210000000.0\n",
      "Cumulus Networks : NaN\n",
      "Allied Telesis : NaN\n",
      "NEC : NaN\n",
      "Mellanox Technologies : NaN\n",
      "Dell EMC : NaN\n",
      "ZTE : NaN\n",
      "Lenovo : 28490000000.0\n"
     ]
    }
   ],
   "source": [
    "pattern = r'\\$(.+)(illion)|\\(' # Find total assets\n",
    "for i,text in enumerate(data):\n",
    "    try:\n",
    "        #print(data[i]['Total assets'])\n",
    "        result = re.search(pattern,data[i]['Total assets']).groups()[0]\n",
    "        result = result.lstrip()\n",
    "        result = result.replace(',', '')\n",
    "        if 'b' in result:\n",
    "            result = round(float(result.split()[0]) * 1e9,0)\n",
    "        elif 'm' in result:\n",
    "            result = round(float(result.split()[0]) * 1e6,0)  \n",
    "        print(data[i]['Title'], ':', result)\n",
    "        # update node properties\n",
    "        node_properties = node_properties.append({'Node_Primary_Key': data[i]['Title'],\n",
    "                                          'Node_Type_Key': 4,\n",
    "                                          'Property_Name': 'total_assets',\n",
    "                                          'Property': result},ignore_index=True)\n",
    "        \n",
    "    except:\n",
    "        result = 'NaN'\n",
    "        print(data[i]['Title'], ':', result)\n",
    "        continue"
   ]
  },
  {
   "cell_type": "markdown",
   "metadata": {},
   "source": [
    "### Total Equity"
   ]
  },
  {
   "cell_type": "code",
   "execution_count": 15,
   "metadata": {
    "ExecuteTime": {
     "end_time": "2019-12-03T20:12:54.016294Z",
     "start_time": "2019-12-03T20:12:53.982010Z"
    }
   },
   "outputs": [
    {
     "name": "stdout",
     "output_type": "stream",
     "text": [
      "Cisco Systems : 43200000000.0\n",
      "VMware : 8097000000.0\n",
      "Big Switch Networks : NaN\n",
      "D-Link : NaN\n",
      "Extreme Networks : NaN\n",
      "Arista Networks : 2143400000.0\n",
      "Hewlett Packard Enterprise : 21230000000.0\n",
      "Juniper Networks : NaN\n",
      "Huawei : 33994000000.0\n",
      "Netgear : 730490000.0\n",
      "Cumulus Networks : NaN\n",
      "Allied Telesis : NaN\n",
      "NEC : NaN\n",
      "Mellanox Technologies : NaN\n",
      "Dell EMC : NaN\n",
      "ZTE : NaN\n",
      "Lenovo : 51038000000.0\n"
     ]
    }
   ],
   "source": [
    "pattern = r'\\$(.+)(illion)|\\(' # Find total equity\n",
    "for i,text in enumerate(data):\n",
    "    try:\n",
    "        result = re.search(pattern,data[i]['Total equity']).groups()[0]\n",
    "        result = result.lstrip()\n",
    "        result = result.replace(',', '')\n",
    "        if 'b' in result:\n",
    "            result = round(float(result.split()[0]) * 1e9,0)\n",
    "        elif 'm' in result:\n",
    "            result = round(float(result.split()[0]) * 1e6,0)\n",
    "        print(data[i]['Title'], ':', result)\n",
    "        # update node properties\n",
    "        node_properties = node_properties.append({'Node_Primary_Key': data[i]['Title'],\n",
    "                                          'Node_Type_Key': 4,\n",
    "                                          'Property_Name': 'total_equity',\n",
    "                                          'Property': result},ignore_index=True)\n",
    "        \n",
    "    except:\n",
    "        result = 'NaN'\n",
    "        print(data[i]['Title'], ':', result)\n",
    "        continue\n"
   ]
  },
  {
   "cell_type": "markdown",
   "metadata": {},
   "source": [
    "### Traded As & Stock Price"
   ]
  },
  {
   "cell_type": "code",
   "execution_count": 16,
   "metadata": {
    "ExecuteTime": {
     "end_time": "2019-12-03T20:14:41.617012Z",
     "start_time": "2019-12-03T20:12:54.892914Z"
    },
    "scrolled": false
   },
   "outputs": [
    {
     "name": "stdout",
     "output_type": "stream",
     "text": [
      "Cisco Systems : CSCO\n",
      "Current Price:  43.725\n",
      "Current Market Cap:  185492815872\n",
      "Current P/E:  17.39952\n",
      "Current Beta:  1.204047\n",
      "Current Div Yield:  0.0322\n",
      "VMware : VMW\n",
      "Current Price:  148.715\n",
      "Current Market Cap:  60908007424\n",
      "Current P/E:  9.454227\n",
      "Current Beta:  1.107082\n",
      "Current Div Yield:  None\n",
      "Big Switch Networks : NaN\n",
      "D-Link : 2332\n",
      "Current Price:  None\n",
      "Current Market Cap:  None\n",
      "Current P/E:  None\n",
      "Current Beta:  None\n",
      "Current Div Yield:  None\n",
      "Extreme Networks : EXTR\n",
      "Current Price:  6.94\n",
      "Current Market Cap:  843675008\n",
      "Current P/E:  None\n",
      "Current Beta:  1.663575\n",
      "Current Div Yield:  None\n",
      "Arista Networks : ANET\n",
      "Current Price:  192.47\n",
      "Current Market Cap:  14704516096\n",
      "Current P/E:  20.279211\n",
      "Current Beta:  1.48145\n",
      "Current Div Yield:  None\n",
      "Hewlett Packard Enterprise : HPE\n",
      "Current Price:  15.95\n",
      "Current Market Cap:  20639299584\n",
      "Current P/E:  20.714287\n",
      "Current Beta:  1.52739\n",
      "Current Div Yield:  0.0305\n",
      "Juniper Networks : JNPR\n",
      "Current Price:  24.1\n",
      "Current Market Cap:  8066439168\n",
      "Current P/E:  22.88699\n",
      "Current Beta:  0.989038\n",
      "Current Div Yield:  0.031600002\n",
      "Huawei : NaN\n",
      "Netgear : NTGR\n",
      "Current Price:  24.74\n",
      "Current Market Cap:  739795264\n",
      "Current P/E:  120.097084\n",
      "Current Beta:  1.245266\n",
      "Current Div Yield:  None\n",
      "Cumulus Networks : NaN\n",
      "Allied Telesis : 6835\n",
      "Current Price:  None\n",
      "Current Market Cap:  None\n",
      "Current P/E:  None\n",
      "Current Beta:  None\n",
      "Current Div Yield:  None\n",
      "NEC : 6701\n",
      "Current Price:  None\n",
      "Current Market Cap:  None\n",
      "Current P/E:  None\n",
      "Current Beta:  None\n",
      "Current Div Yield:  None\n",
      "Mellanox Technologies : MLNX\n",
      "Current Price:  114.64\n",
      "Current Market Cap:  6362508288\n",
      "Current P/E:  36.897327\n",
      "Current Beta:  0.480206\n",
      "Current Div Yield:  None\n",
      "Dell EMC : DELL\n",
      "Current Price:  48.15\n",
      "Current Market Cap:  34891849728\n",
      "Current P/E:  9.750911\n",
      "Current Beta:  None\n",
      "Current Div Yield:  None\n",
      "ZTE : 000063\n",
      "Current Price:  None\n",
      "Current Market Cap:  None\n",
      "Current P/E:  None\n",
      "Current Beta:  None\n",
      "Current Div Yield:  None\n",
      "Lenovo : 992\n",
      "Current Price:  None\n",
      "Current Market Cap:  None\n",
      "Current P/E:  None\n",
      "Current Beta:  None\n",
      "Current Div Yield:  None\n"
     ]
    }
   ],
   "source": [
    "pattern = r'\\:\\ (\\w+)' # Find stock ticker\n",
    "for i,text in enumerate(data):\n",
    "    try:\n",
    "        #print(data[i]['Traded as'])\n",
    "        result = re.search(pattern,data[i]['Traded as']).groups()[0]\n",
    "        result = result.lstrip()\n",
    "        result = result.replace(',', '')\n",
    "        if result == 'EMC':\n",
    "            result = 'DELL'\n",
    "        print(data[i]['Title'], ':', result)\n",
    "        # update edge properties\n",
    "        # update connections\n",
    "        \n",
    "        # Get current stock price\n",
    "        yahoo_financials = YahooFinancials(result)\n",
    "        price = yahoo_financials.get_current_price()\n",
    "        print('Current Price: ',price)\n",
    "        \n",
    "        # Get current market cap\n",
    "        market_cap = yahoo_financials.get_market_cap()\n",
    "        print('Current Market Cap: ',market_cap)\n",
    "        \n",
    "        # Get current pe\n",
    "        pe = yahoo_financials.get_pe_ratio()\n",
    "        print('Current P/E: ',pe)\n",
    "        \n",
    "        # Get current beta\n",
    "        beta = yahoo_financials.get_beta()\n",
    "        print('Current Beta: ',beta)\n",
    "        \n",
    "        # Get current dividend yield\n",
    "        div_yield = yahoo_financials.get_dividend_yield()\n",
    "        print('Current Div Yield: ',div_yield)\n",
    "        \n",
    "        \n",
    "        # update node properties (stock symbol)\n",
    "        node_properties = node_properties.append({'Node_Primary_Key': data[i]['Title'],\n",
    "                                          'Node_Type_Key': 4,\n",
    "                                          'Property_Name': 'stock_symbol',\n",
    "                                          'Property': result},ignore_index=True)\n",
    "        \n",
    "        # update node properties (price)\n",
    "        node_properties = node_properties.append({'Node_Primary_Key': data[i]['Title'],\n",
    "                                          'Node_Type_Key': 4,\n",
    "                                          'Property_Name': 'price',\n",
    "                                          'Property': price},ignore_index=True)\n",
    "        \n",
    "        # update node properties (market cap)\n",
    "        node_properties = node_properties.append({'Node_Primary_Key': data[i]['Title'],\n",
    "                                          'Node_Type_Key': 4,\n",
    "                                          'Property_Name': 'market_cap',\n",
    "                                          'Property': market_cap},ignore_index=True)\n",
    "        # update node properties (pe)\n",
    "        node_properties = node_properties.append({'Node_Primary_Key': data[i]['Title'],\n",
    "                                          'Node_Type_Key': 4,\n",
    "                                          'Property_Name': 'pe_ratio',\n",
    "                                          'Property': pe},ignore_index=True)\n",
    "        \n",
    "        # update node properties (beta)\n",
    "        node_properties = node_properties.append({'Node_Primary_Key': data[i]['Title'],\n",
    "                                          'Node_Type_Key': 4,\n",
    "                                          'Property_Name': 'beta',\n",
    "                                          'Property': beta},ignore_index=True)\n",
    "        \n",
    "        # update node properties (dividend yield)\n",
    "        node_properties = node_properties.append({'Node_Primary_Key': data[i]['Title'],\n",
    "                                          'Node_Type_Key': 4,\n",
    "                                          'Property_Name': 'div_yield',\n",
    "                                          'Property': div_yield},ignore_index=True)\n",
    "    except:\n",
    "        result = 'NaN'\n",
    "        print(data[i]['Title'], ':', result)\n",
    "        continue"
   ]
  },
  {
   "cell_type": "markdown",
   "metadata": {},
   "source": [
    "## Build Node Properties and Export"
   ]
  },
  {
   "cell_type": "code",
   "execution_count": 17,
   "metadata": {},
   "outputs": [],
   "source": [
    "node_properties.to_pickle('financials_node_properties_2.pkl')"
   ]
  },
  {
   "cell_type": "code",
   "execution_count": 18,
   "metadata": {
    "ExecuteTime": {
     "end_time": "2019-12-02T00:24:09.725317Z",
     "start_time": "2019-12-02T00:24:06.466188Z"
    },
    "scrolled": false
   },
   "outputs": [
    {
     "data": {
      "text/plain": [
       "269.35"
      ]
     },
     "execution_count": 18,
     "metadata": {},
     "output_type": "execute_result"
    }
   ],
   "source": [
    "ticker = 'AAPL'\n",
    "yahoo_financials = YahooFinancials(ticker)\n",
    "yahoo_financials.get_current_price()"
   ]
  },
  {
   "cell_type": "code",
   "execution_count": 19,
   "metadata": {},
   "outputs": [
    {
     "ename": "SyntaxError",
     "evalue": "invalid syntax (<ipython-input-19-5fd526571274>, line 4)",
     "output_type": "error",
     "traceback": [
      "\u001b[0;36m  File \u001b[0;32m\"<ipython-input-19-5fd526571274>\"\u001b[0;36m, line \u001b[0;32m4\u001b[0m\n\u001b[0;31m    'Node_Property_Key_2': },ignore_index=True)\u001b[0m\n\u001b[0m                           ^\u001b[0m\n\u001b[0;31mSyntaxError\u001b[0m\u001b[0;31m:\u001b[0m invalid syntax\n"
     ]
    }
   ],
   "source": [
    "# update connections (need to create 'Financials' node first before building edges to it)\n",
    "connections = connections.append({'Node_Property_Key': i+1,\n",
    "                                          'Edge_Property_Key': 1,\n",
    "                                          'Node_Property_Key_2': },ignore_index=True)"
   ]
  },
  {
   "cell_type": "markdown",
   "metadata": {},
   "source": [
    "## Reference: Explore Scraped Data"
   ]
  },
  {
   "cell_type": "code",
   "execution_count": null,
   "metadata": {
    "ExecuteTime": {
     "end_time": "2019-12-01T08:20:48.777642Z",
     "start_time": "2019-12-01T08:20:48.771746Z"
    }
   },
   "outputs": [],
   "source": [
    "cisco_keys = list()\n",
    "for key, value in cisco.items():\n",
    "    print(\"Key: \" + str(key))\n",
    "    cisco_keys.append(key)"
   ]
  },
  {
   "cell_type": "code",
   "execution_count": null,
   "metadata": {},
   "outputs": [],
   "source": [
    "arista_keys = list() \n",
    "for key, value in Arista.items():\n",
    "    print(\"Key: \" + str(key))\n",
    "    arista_keys.append(key)"
   ]
  },
  {
   "cell_type": "code",
   "execution_count": null,
   "metadata": {},
   "outputs": [],
   "source": [
    "Hewlett_Packard_keys = list()\n",
    "for key, value in Hewlett_Packard.items():\n",
    "    print(\"Key: \" + str(key))\n",
    "    Hewlett_Packard_keys.append(key)"
   ]
  },
  {
   "cell_type": "code",
   "execution_count": null,
   "metadata": {},
   "outputs": [],
   "source": [
    "Juniper_keys = list()\n",
    "for key, value in Juniper.items():\n",
    "    print(\"Key: \" + str(key))\n",
    "    Juniper_keys.append(key)"
   ]
  },
  {
   "cell_type": "code",
   "execution_count": null,
   "metadata": {},
   "outputs": [],
   "source": [
    "common_keys = set(cisco_keys) & set(arista_keys) & set(Hewlett_Packard_keys) & set(Juniper_keys)\n",
    "print(common_keys)"
   ]
  },
  {
   "cell_type": "code",
   "execution_count": null,
   "metadata": {},
   "outputs": [],
   "source": []
  }
 ],
 "metadata": {
  "kernelspec": {
   "display_name": "Python 3",
   "language": "python",
   "name": "python3"
  },
  "language_info": {
   "codemirror_mode": {
    "name": "ipython",
    "version": 3
   },
   "file_extension": ".py",
   "mimetype": "text/x-python",
   "name": "python",
   "nbconvert_exporter": "python",
   "pygments_lexer": "ipython3",
   "version": "3.6.8"
  },
  "pycharm": {
   "stem_cell": {
    "cell_type": "raw",
    "metadata": {
     "collapsed": false
    },
    "source": []
   }
  },
  "varInspector": {
   "cols": {
    "lenName": 16,
    "lenType": 16,
    "lenVar": 40
   },
   "kernels_config": {
    "python": {
     "delete_cmd_postfix": "",
     "delete_cmd_prefix": "del ",
     "library": "var_list.py",
     "varRefreshCmd": "print(var_dic_list())"
    },
    "r": {
     "delete_cmd_postfix": ") ",
     "delete_cmd_prefix": "rm(",
     "library": "var_list.r",
     "varRefreshCmd": "cat(var_dic_list()) "
    }
   },
   "types_to_exclude": [
    "module",
    "function",
    "builtin_function_or_method",
    "instance",
    "_Feature"
   ],
   "window_display": false
  }
 },
 "nbformat": 4,
 "nbformat_minor": 1
}
