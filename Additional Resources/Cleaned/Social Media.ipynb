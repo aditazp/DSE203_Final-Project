{
 "cells": [
  {
   "cell_type": "markdown",
   "metadata": {},
   "source": [
    "# Social Media Data"
   ]
  },
  {
   "cell_type": "markdown",
   "metadata": {
    "heading_collapsed": true
   },
   "source": [
    "## Libraries"
   ]
  },
  {
   "cell_type": "code",
   "execution_count": 5,
   "metadata": {
    "ExecuteTime": {
     "end_time": "2019-12-03T21:13:36.952584Z",
     "start_time": "2019-12-03T21:12:35.658319Z"
    },
    "hidden": true
   },
   "outputs": [
    {
     "name": "stdout",
     "output_type": "stream",
     "text": [
      "Collecting textblob\n",
      "\u001b[?25l  Downloading https://files.pythonhosted.org/packages/60/f0/1d9bfcc8ee6b83472ec571406bd0dd51c0e6330ff1a51b2d29861d389e85/textblob-0.15.3-py2.py3-none-any.whl (636kB)\n",
      "\u001b[K     |████████████████████████████████| 645kB 497kB/s eta 0:00:01\n",
      "\u001b[?25hRequirement already satisfied, skipping upgrade: nltk>=3.1 in /anaconda3/lib/python3.7/site-packages (from textblob) (3.4.5)\n",
      "Requirement already satisfied, skipping upgrade: six in /anaconda3/lib/python3.7/site-packages (from nltk>=3.1->textblob) (1.12.0)\n",
      "Installing collected packages: textblob\n",
      "Successfully installed textblob-0.15.3\n",
      "[nltk_data] Downloading package brown to /Users/zeqollaa/nltk_data...\n",
      "[nltk_data]   Unzipping corpora/brown.zip.\n",
      "[nltk_data] Downloading package punkt to /Users/zeqollaa/nltk_data...\n",
      "[nltk_data]   Unzipping tokenizers/punkt.zip.\n",
      "[nltk_data] Downloading package wordnet to\n",
      "[nltk_data]     /Users/zeqollaa/nltk_data...\n",
      "[nltk_data]   Unzipping corpora/wordnet.zip.\n",
      "[nltk_data] Downloading package averaged_perceptron_tagger to\n",
      "[nltk_data]     /Users/zeqollaa/nltk_data...\n",
      "[nltk_data]   Unzipping taggers/averaged_perceptron_tagger.zip.\n",
      "[nltk_data] Downloading package conll2000 to\n",
      "[nltk_data]     /Users/zeqollaa/nltk_data...\n",
      "[nltk_data]   Unzipping corpora/conll2000.zip.\n",
      "[nltk_data] Downloading package movie_reviews to\n",
      "[nltk_data]     /Users/zeqollaa/nltk_data...\n",
      "[nltk_data]   Unzipping corpora/movie_reviews.zip.\n",
      "Finished.\n"
     ]
    }
   ],
   "source": [
    "!pip install -U textblob\n",
    "!python -m textblob.download_corpora"
   ]
  },
  {
   "cell_type": "code",
   "execution_count": 6,
   "metadata": {
    "ExecuteTime": {
     "end_time": "2019-12-03T21:14:04.780462Z",
     "start_time": "2019-12-03T21:14:02.727068Z"
    },
    "hidden": true
   },
   "outputs": [],
   "source": [
    "import pandas as pd\n",
    "from textblob import TextBlob"
   ]
  },
  {
   "cell_type": "markdown",
   "metadata": {},
   "source": [
    "## Create Template Node Properties"
   ]
  },
  {
   "cell_type": "code",
   "execution_count": 79,
   "metadata": {
    "ExecuteTime": {
     "end_time": "2019-12-03T23:48:27.100601Z",
     "start_time": "2019-12-03T23:48:27.072779Z"
    }
   },
   "outputs": [
    {
     "data": {
      "text/html": [
       "<div>\n",
       "<style scoped>\n",
       "    .dataframe tbody tr th:only-of-type {\n",
       "        vertical-align: middle;\n",
       "    }\n",
       "\n",
       "    .dataframe tbody tr th {\n",
       "        vertical-align: top;\n",
       "    }\n",
       "\n",
       "    .dataframe thead th {\n",
       "        text-align: right;\n",
       "    }\n",
       "</style>\n",
       "<table border=\"1\" class=\"dataframe\">\n",
       "  <thead>\n",
       "    <tr style=\"text-align: right;\">\n",
       "      <th></th>\n",
       "      <th>Primary_Key</th>\n",
       "      <th>Node</th>\n",
       "    </tr>\n",
       "  </thead>\n",
       "  <tbody>\n",
       "  </tbody>\n",
       "</table>\n",
       "</div>"
      ],
      "text/plain": [
       "Empty DataFrame\n",
       "Columns: [Primary_Key, Node]\n",
       "Index: []"
      ]
     },
     "execution_count": 79,
     "metadata": {},
     "output_type": "execute_result"
    }
   ],
   "source": [
    "node_type = pd.DataFrame(data=None,columns = ['Primary_Key','Node'])\n",
    "node_type.head()"
   ]
  },
  {
   "cell_type": "code",
   "execution_count": 80,
   "metadata": {
    "ExecuteTime": {
     "end_time": "2019-12-03T23:48:27.651677Z",
     "start_time": "2019-12-03T23:48:27.643651Z"
    }
   },
   "outputs": [
    {
     "data": {
      "text/html": [
       "<div>\n",
       "<style scoped>\n",
       "    .dataframe tbody tr th:only-of-type {\n",
       "        vertical-align: middle;\n",
       "    }\n",
       "\n",
       "    .dataframe tbody tr th {\n",
       "        vertical-align: top;\n",
       "    }\n",
       "\n",
       "    .dataframe thead th {\n",
       "        text-align: right;\n",
       "    }\n",
       "</style>\n",
       "<table border=\"1\" class=\"dataframe\">\n",
       "  <thead>\n",
       "    <tr style=\"text-align: right;\">\n",
       "      <th></th>\n",
       "      <th>Node_Primary_Key</th>\n",
       "      <th>Node_Type_Key</th>\n",
       "      <th>Property_Name</th>\n",
       "      <th>Property</th>\n",
       "    </tr>\n",
       "  </thead>\n",
       "  <tbody>\n",
       "  </tbody>\n",
       "</table>\n",
       "</div>"
      ],
      "text/plain": [
       "Empty DataFrame\n",
       "Columns: [Node_Primary_Key, Node_Type_Key, Property_Name, Property]\n",
       "Index: []"
      ]
     },
     "execution_count": 80,
     "metadata": {},
     "output_type": "execute_result"
    }
   ],
   "source": [
    "node_properties = pd.DataFrame(data=None, columns = ['Node_Primary_Key','Node_Type_Key','Property_Name','Property'])\n",
    "\n",
    "node_properties.head()"
   ]
  },
  {
   "cell_type": "code",
   "execution_count": 81,
   "metadata": {
    "ExecuteTime": {
     "end_time": "2019-12-03T23:48:28.106072Z",
     "start_time": "2019-12-03T23:48:28.095294Z"
    }
   },
   "outputs": [
    {
     "data": {
      "text/html": [
       "<div>\n",
       "<style scoped>\n",
       "    .dataframe tbody tr th:only-of-type {\n",
       "        vertical-align: middle;\n",
       "    }\n",
       "\n",
       "    .dataframe tbody tr th {\n",
       "        vertical-align: top;\n",
       "    }\n",
       "\n",
       "    .dataframe thead th {\n",
       "        text-align: right;\n",
       "    }\n",
       "</style>\n",
       "<table border=\"1\" class=\"dataframe\">\n",
       "  <thead>\n",
       "    <tr style=\"text-align: right;\">\n",
       "      <th></th>\n",
       "      <th>Primary_Key</th>\n",
       "      <th>Node</th>\n",
       "    </tr>\n",
       "  </thead>\n",
       "  <tbody>\n",
       "    <tr>\n",
       "      <td>0</td>\n",
       "      <td>5</td>\n",
       "      <td>Social_Media</td>\n",
       "    </tr>\n",
       "  </tbody>\n",
       "</table>\n",
       "</div>"
      ],
      "text/plain": [
       "  Primary_Key          Node\n",
       "0           5  Social_Media"
      ]
     },
     "execution_count": 81,
     "metadata": {},
     "output_type": "execute_result"
    }
   ],
   "source": [
    "# Preparing First Node\n",
    "node_type = node_type.append({'Primary_Key':5,'Node':'Social_Media'},ignore_index=True)\n",
    "node_type.head()"
   ]
  },
  {
   "cell_type": "markdown",
   "metadata": {},
   "source": [
    "## Perform sentiment analysis"
   ]
  },
  {
   "cell_type": "code",
   "execution_count": 82,
   "metadata": {
    "ExecuteTime": {
     "end_time": "2019-12-03T23:48:29.346608Z",
     "start_time": "2019-12-03T23:48:29.206634Z"
    }
   },
   "outputs": [
    {
     "name": "stdout",
     "output_type": "stream",
     "text": [
      "NEC_tweets.xlsx                     extremenetworks_tweets_cleaned.csv\r\n",
      "NEC_tweets_cleaned.csv              \u001b[31mhp_tweets.xlsx\u001b[m\u001b[m*\r\n",
      "\u001b[31mNr_Followers.xlsx\u001b[m\u001b[m*                  hp_tweets_cleaned.csv\r\n",
      "Untitled.ipynb                      \u001b[31mhuawei_tweets.xlsx\u001b[m\u001b[m*\r\n",
      "\u001b[31malliedtelesis_tweets.xlsx\u001b[m\u001b[m*          huawei_tweets_cleaned.csv\r\n",
      "alliedtelesis_tweets_cleaned.csv    \u001b[31mjuniper_tweets.xlsx\u001b[m\u001b[m*\r\n",
      "\u001b[31marista_tweets.xlsx\u001b[m\u001b[m*                 juniper_tweets_cleaned.csv\r\n",
      "arista_tweets_cleaned.csv           lenovo_tweets.xlsx\r\n",
      "\u001b[31mbigswitch_tweets.xlsx\u001b[m\u001b[m*              lenovo_tweets_cleaned.csv\r\n",
      "bigswitch_tweets_cleaned.csv        lenovo_tweets_cleaned.xlsx\r\n",
      "\u001b[31mcisco_tweets.xlsx\u001b[m\u001b[m*                  \u001b[31mmellanox_tweets.xlsx\u001b[m\u001b[m*\r\n",
      "cisco_tweets_cleaned.csv            mellanox_tweets_cleaned.csv\r\n",
      "\u001b[31mcumulus_tweets.xlsx\u001b[m\u001b[m*                netgear_tweets.xlsx\r\n",
      "cumulus_tweets_cleaned.csv          netgear_tweets_cleaned.csv\r\n",
      "\u001b[31mdellemc_tweets.xlsx\u001b[m\u001b[m*                \u001b[31mvmware_tweets.xlsx\u001b[m\u001b[m*\r\n",
      "dellemc_tweets_cleaned.csv          vmware_tweets_clean.csv\r\n",
      "\u001b[31mdlink_tweets.xlsx\u001b[m\u001b[m*                  zte_tweets.xlsx\r\n",
      "dlink_tweets_cleaned.csv            zte_tweets_cleaned.csv\r\n",
      "\u001b[31mextremenetworks_tweets.xlsx\u001b[m\u001b[m*\r\n"
     ]
    }
   ],
   "source": [
    "ls"
   ]
  },
  {
   "cell_type": "code",
   "execution_count": 83,
   "metadata": {
    "ExecuteTime": {
     "end_time": "2019-12-03T23:48:31.183799Z",
     "start_time": "2019-12-03T23:48:31.179093Z"
    }
   },
   "outputs": [],
   "source": [
    "companies_files = ['cisco_tweets_cleaned.csv',\n",
    "                   'vmware_tweets_clean.csv',\n",
    "                   'dlink_tweets_cleaned.csv',\n",
    "                   'extremenetworks_tweets_cleaned.csv',\n",
    "                   'arista_tweets_cleaned.csv',\n",
    "                   'hp_tweets_cleaned.csv',\n",
    "                   'juniper_tweets_cleaned.csv',\n",
    "                   'huawei_tweets_cleaned.csv',\n",
    "                   'netgear_tweets_cleaned.csv',\n",
    "                   'cumulus_tweets_cleaned.csv',\n",
    "                   'alliedtelesis_tweets_cleaned.csv',\n",
    "                   'NEC_tweets_cleaned.csv', \n",
    "                   'mellanox_tweets_cleaned.csv',\n",
    "                   'dellemc_tweets_cleaned.csv',\n",
    "                   'zte_tweets_cleaned.csv',\n",
    "                   'lenovo_tweets_cleaned.csv']\n",
    "\n",
    "company_list = ['Cisco Systems',\n",
    " 'VMware',\n",
    " 'Big Switch Networks',\n",
    " 'D-Link',\n",
    " 'Extreme Networks',\n",
    " 'Arista Networks',\n",
    " 'Hewlett Packard Enterprise',\n",
    " 'Juniper Networks',\n",
    " 'Huawei',\n",
    " 'Netgear',\n",
    " 'Cumulus Networks',\n",
    " 'Allied Telesis',\n",
    " 'NEC',\n",
    " 'Mellanox Technologies',\n",
    " 'Dell EMC',\n",
    " 'ZTE',\n",
    " 'Lenovo']"
   ]
  },
  {
   "cell_type": "code",
   "execution_count": 84,
   "metadata": {
    "ExecuteTime": {
     "end_time": "2019-12-03T23:48:32.221600Z",
     "start_time": "2019-12-03T23:48:32.214303Z"
    },
    "scrolled": true
   },
   "outputs": [],
   "source": [
    "def read_tweets(filepath):\n",
    "    tweets = pd.read_csv(filepath)\n",
    "    return tweets\n",
    "\n",
    "def perform_sent_anal(tweet):\n",
    "    blob = TextBlob(tweet)\n",
    "    polarity = blob.sentiment.polarity\n",
    "    #print(polarity, tweet)\n",
    "    return polarity\n",
    "\n",
    "def get_mean_polarity(df):\n",
    "    polarity = df.sentiment_polarity.mean()\n",
    "    print('polarity: ',polarity)\n",
    "    return polarity\n",
    "\n",
    "def num_tweets(df):\n",
    "    number_of_tweets = df.count()[0]\n",
    "    print('number of tweets: ',number_of_tweets)\n",
    "    return number_of_tweets\n"
   ]
  },
  {
   "cell_type": "code",
   "execution_count": 85,
   "metadata": {
    "ExecuteTime": {
     "end_time": "2019-12-03T23:48:33.996280Z",
     "start_time": "2019-12-03T23:48:32.817242Z"
    }
   },
   "outputs": [
    {
     "name": "stdout",
     "output_type": "stream",
     "text": [
      "number of tweets:  363\n",
      "polarity:  0.10925208752386778\n",
      "number of tweets:  325\n",
      "polarity:  0.21291656624625374\n",
      "number of tweets:  107\n",
      "polarity:  0.03938732001816117\n",
      "number of tweets:  46\n",
      "polarity:  0.15682586736934565\n",
      "number of tweets:  26\n",
      "polarity:  0.18804632867132864\n",
      "number of tweets:  53\n",
      "polarity:  0.1716574855213669\n",
      "number of tweets:  109\n",
      "polarity:  0.20399591839098716\n",
      "number of tweets:  347\n",
      "polarity:  -0.21419384683253564\n",
      "number of tweets:  99\n",
      "polarity:  0.07359628633618534\n",
      "number of tweets:  31\n",
      "polarity:  0.18082088162733326\n",
      "number of tweets:  6\n",
      "polarity:  0.31666666666666665\n",
      "number of tweets:  437\n",
      "polarity:  0.14564392226121278\n",
      "number of tweets:  8\n",
      "polarity:  0.3079261363636363\n",
      "number of tweets:  184\n",
      "polarity:  0.23257904770727467\n",
      "number of tweets:  91\n",
      "polarity:  0.07308926316738817\n",
      "number of tweets:  245\n",
      "polarity:  0.1964712635956257\n"
     ]
    }
   ],
   "source": [
    "for i,filepath in enumerate(companies_files):\n",
    "    tweets = read_tweets(filepath)\n",
    "    tweets['sentiment_polarity'] = tweets.apply(lambda row: perform_sent_anal(row.Text), axis=1)\n",
    "    n_tweets = num_tweets(tweets)\n",
    "    polarity = get_mean_polarity(tweets)\n",
    "    \n",
    "    # update node properties (polarity)\n",
    "    node_properties = node_properties.append({'Node_Primary_Key': company_list[i],\n",
    "                                      'Node_Type_Key': 5,\n",
    "                                      'Property_Name': 'sentiment_polarity',\n",
    "                                      'Property': polarity},ignore_index=True)\n",
    "    # update node properties (n_tweets)\n",
    "    node_properties = node_properties.append({'Node_Primary_Key': company_list[i],\n",
    "                                      'Node_Type_Key': 5,\n",
    "                                      'Property_Name': 'num_tweets',\n",
    "                                      'Property': int(n_tweets)},ignore_index=True)\n",
    "    \n"
   ]
  },
  {
   "cell_type": "code",
   "execution_count": 86,
   "metadata": {
    "ExecuteTime": {
     "end_time": "2019-12-03T23:48:34.874471Z",
     "start_time": "2019-12-03T23:48:34.862657Z"
    }
   },
   "outputs": [
    {
     "data": {
      "text/html": [
       "<div>\n",
       "<style scoped>\n",
       "    .dataframe tbody tr th:only-of-type {\n",
       "        vertical-align: middle;\n",
       "    }\n",
       "\n",
       "    .dataframe tbody tr th {\n",
       "        vertical-align: top;\n",
       "    }\n",
       "\n",
       "    .dataframe thead th {\n",
       "        text-align: right;\n",
       "    }\n",
       "</style>\n",
       "<table border=\"1\" class=\"dataframe\">\n",
       "  <thead>\n",
       "    <tr style=\"text-align: right;\">\n",
       "      <th></th>\n",
       "      <th>Node_Primary_Key</th>\n",
       "      <th>Node_Type_Key</th>\n",
       "      <th>Property_Name</th>\n",
       "      <th>Property</th>\n",
       "    </tr>\n",
       "  </thead>\n",
       "  <tbody>\n",
       "    <tr>\n",
       "      <td>0</td>\n",
       "      <td>Cisco Systems</td>\n",
       "      <td>5</td>\n",
       "      <td>sentiment_polarity</td>\n",
       "      <td>0.109252</td>\n",
       "    </tr>\n",
       "    <tr>\n",
       "      <td>1</td>\n",
       "      <td>Cisco Systems</td>\n",
       "      <td>5</td>\n",
       "      <td>num_tweets</td>\n",
       "      <td>363.000000</td>\n",
       "    </tr>\n",
       "    <tr>\n",
       "      <td>2</td>\n",
       "      <td>VMware</td>\n",
       "      <td>5</td>\n",
       "      <td>sentiment_polarity</td>\n",
       "      <td>0.212917</td>\n",
       "    </tr>\n",
       "    <tr>\n",
       "      <td>3</td>\n",
       "      <td>VMware</td>\n",
       "      <td>5</td>\n",
       "      <td>num_tweets</td>\n",
       "      <td>325.000000</td>\n",
       "    </tr>\n",
       "    <tr>\n",
       "      <td>4</td>\n",
       "      <td>Big Switch Networks</td>\n",
       "      <td>5</td>\n",
       "      <td>sentiment_polarity</td>\n",
       "      <td>0.039387</td>\n",
       "    </tr>\n",
       "    <tr>\n",
       "      <td>5</td>\n",
       "      <td>Big Switch Networks</td>\n",
       "      <td>5</td>\n",
       "      <td>num_tweets</td>\n",
       "      <td>107.000000</td>\n",
       "    </tr>\n",
       "    <tr>\n",
       "      <td>6</td>\n",
       "      <td>D-Link</td>\n",
       "      <td>5</td>\n",
       "      <td>sentiment_polarity</td>\n",
       "      <td>0.156826</td>\n",
       "    </tr>\n",
       "    <tr>\n",
       "      <td>7</td>\n",
       "      <td>D-Link</td>\n",
       "      <td>5</td>\n",
       "      <td>num_tweets</td>\n",
       "      <td>46.000000</td>\n",
       "    </tr>\n",
       "    <tr>\n",
       "      <td>8</td>\n",
       "      <td>Extreme Networks</td>\n",
       "      <td>5</td>\n",
       "      <td>sentiment_polarity</td>\n",
       "      <td>0.188046</td>\n",
       "    </tr>\n",
       "    <tr>\n",
       "      <td>9</td>\n",
       "      <td>Extreme Networks</td>\n",
       "      <td>5</td>\n",
       "      <td>num_tweets</td>\n",
       "      <td>26.000000</td>\n",
       "    </tr>\n",
       "    <tr>\n",
       "      <td>10</td>\n",
       "      <td>Arista Networks</td>\n",
       "      <td>5</td>\n",
       "      <td>sentiment_polarity</td>\n",
       "      <td>0.171657</td>\n",
       "    </tr>\n",
       "    <tr>\n",
       "      <td>11</td>\n",
       "      <td>Arista Networks</td>\n",
       "      <td>5</td>\n",
       "      <td>num_tweets</td>\n",
       "      <td>53.000000</td>\n",
       "    </tr>\n",
       "    <tr>\n",
       "      <td>12</td>\n",
       "      <td>Hewlett Packard Enterprise</td>\n",
       "      <td>5</td>\n",
       "      <td>sentiment_polarity</td>\n",
       "      <td>0.203996</td>\n",
       "    </tr>\n",
       "    <tr>\n",
       "      <td>13</td>\n",
       "      <td>Hewlett Packard Enterprise</td>\n",
       "      <td>5</td>\n",
       "      <td>num_tweets</td>\n",
       "      <td>109.000000</td>\n",
       "    </tr>\n",
       "    <tr>\n",
       "      <td>14</td>\n",
       "      <td>Juniper Networks</td>\n",
       "      <td>5</td>\n",
       "      <td>sentiment_polarity</td>\n",
       "      <td>-0.214194</td>\n",
       "    </tr>\n",
       "    <tr>\n",
       "      <td>15</td>\n",
       "      <td>Juniper Networks</td>\n",
       "      <td>5</td>\n",
       "      <td>num_tweets</td>\n",
       "      <td>347.000000</td>\n",
       "    </tr>\n",
       "    <tr>\n",
       "      <td>16</td>\n",
       "      <td>Huawei</td>\n",
       "      <td>5</td>\n",
       "      <td>sentiment_polarity</td>\n",
       "      <td>0.073596</td>\n",
       "    </tr>\n",
       "    <tr>\n",
       "      <td>17</td>\n",
       "      <td>Huawei</td>\n",
       "      <td>5</td>\n",
       "      <td>num_tweets</td>\n",
       "      <td>99.000000</td>\n",
       "    </tr>\n",
       "    <tr>\n",
       "      <td>18</td>\n",
       "      <td>Netgear</td>\n",
       "      <td>5</td>\n",
       "      <td>sentiment_polarity</td>\n",
       "      <td>0.180821</td>\n",
       "    </tr>\n",
       "    <tr>\n",
       "      <td>19</td>\n",
       "      <td>Netgear</td>\n",
       "      <td>5</td>\n",
       "      <td>num_tweets</td>\n",
       "      <td>31.000000</td>\n",
       "    </tr>\n",
       "    <tr>\n",
       "      <td>20</td>\n",
       "      <td>Cumulus Networks</td>\n",
       "      <td>5</td>\n",
       "      <td>sentiment_polarity</td>\n",
       "      <td>0.316667</td>\n",
       "    </tr>\n",
       "    <tr>\n",
       "      <td>21</td>\n",
       "      <td>Cumulus Networks</td>\n",
       "      <td>5</td>\n",
       "      <td>num_tweets</td>\n",
       "      <td>6.000000</td>\n",
       "    </tr>\n",
       "    <tr>\n",
       "      <td>22</td>\n",
       "      <td>Allied Telesis</td>\n",
       "      <td>5</td>\n",
       "      <td>sentiment_polarity</td>\n",
       "      <td>0.145644</td>\n",
       "    </tr>\n",
       "    <tr>\n",
       "      <td>23</td>\n",
       "      <td>Allied Telesis</td>\n",
       "      <td>5</td>\n",
       "      <td>num_tweets</td>\n",
       "      <td>437.000000</td>\n",
       "    </tr>\n",
       "    <tr>\n",
       "      <td>24</td>\n",
       "      <td>NEC</td>\n",
       "      <td>5</td>\n",
       "      <td>sentiment_polarity</td>\n",
       "      <td>0.307926</td>\n",
       "    </tr>\n",
       "    <tr>\n",
       "      <td>25</td>\n",
       "      <td>NEC</td>\n",
       "      <td>5</td>\n",
       "      <td>num_tweets</td>\n",
       "      <td>8.000000</td>\n",
       "    </tr>\n",
       "    <tr>\n",
       "      <td>26</td>\n",
       "      <td>Mellanox Technologies</td>\n",
       "      <td>5</td>\n",
       "      <td>sentiment_polarity</td>\n",
       "      <td>0.232579</td>\n",
       "    </tr>\n",
       "    <tr>\n",
       "      <td>27</td>\n",
       "      <td>Mellanox Technologies</td>\n",
       "      <td>5</td>\n",
       "      <td>num_tweets</td>\n",
       "      <td>184.000000</td>\n",
       "    </tr>\n",
       "    <tr>\n",
       "      <td>28</td>\n",
       "      <td>Dell EMC</td>\n",
       "      <td>5</td>\n",
       "      <td>sentiment_polarity</td>\n",
       "      <td>0.073089</td>\n",
       "    </tr>\n",
       "    <tr>\n",
       "      <td>29</td>\n",
       "      <td>Dell EMC</td>\n",
       "      <td>5</td>\n",
       "      <td>num_tweets</td>\n",
       "      <td>91.000000</td>\n",
       "    </tr>\n",
       "    <tr>\n",
       "      <td>30</td>\n",
       "      <td>ZTE</td>\n",
       "      <td>5</td>\n",
       "      <td>sentiment_polarity</td>\n",
       "      <td>0.196471</td>\n",
       "    </tr>\n",
       "    <tr>\n",
       "      <td>31</td>\n",
       "      <td>ZTE</td>\n",
       "      <td>5</td>\n",
       "      <td>num_tweets</td>\n",
       "      <td>245.000000</td>\n",
       "    </tr>\n",
       "  </tbody>\n",
       "</table>\n",
       "</div>"
      ],
      "text/plain": [
       "              Node_Primary_Key Node_Type_Key       Property_Name    Property\n",
       "0                Cisco Systems             5  sentiment_polarity    0.109252\n",
       "1                Cisco Systems             5          num_tweets  363.000000\n",
       "2                       VMware             5  sentiment_polarity    0.212917\n",
       "3                       VMware             5          num_tweets  325.000000\n",
       "4          Big Switch Networks             5  sentiment_polarity    0.039387\n",
       "5          Big Switch Networks             5          num_tweets  107.000000\n",
       "6                       D-Link             5  sentiment_polarity    0.156826\n",
       "7                       D-Link             5          num_tweets   46.000000\n",
       "8             Extreme Networks             5  sentiment_polarity    0.188046\n",
       "9             Extreme Networks             5          num_tweets   26.000000\n",
       "10             Arista Networks             5  sentiment_polarity    0.171657\n",
       "11             Arista Networks             5          num_tweets   53.000000\n",
       "12  Hewlett Packard Enterprise             5  sentiment_polarity    0.203996\n",
       "13  Hewlett Packard Enterprise             5          num_tweets  109.000000\n",
       "14            Juniper Networks             5  sentiment_polarity   -0.214194\n",
       "15            Juniper Networks             5          num_tweets  347.000000\n",
       "16                      Huawei             5  sentiment_polarity    0.073596\n",
       "17                      Huawei             5          num_tweets   99.000000\n",
       "18                     Netgear             5  sentiment_polarity    0.180821\n",
       "19                     Netgear             5          num_tweets   31.000000\n",
       "20            Cumulus Networks             5  sentiment_polarity    0.316667\n",
       "21            Cumulus Networks             5          num_tweets    6.000000\n",
       "22              Allied Telesis             5  sentiment_polarity    0.145644\n",
       "23              Allied Telesis             5          num_tweets  437.000000\n",
       "24                         NEC             5  sentiment_polarity    0.307926\n",
       "25                         NEC             5          num_tweets    8.000000\n",
       "26       Mellanox Technologies             5  sentiment_polarity    0.232579\n",
       "27       Mellanox Technologies             5          num_tweets  184.000000\n",
       "28                    Dell EMC             5  sentiment_polarity    0.073089\n",
       "29                    Dell EMC             5          num_tweets   91.000000\n",
       "30                         ZTE             5  sentiment_polarity    0.196471\n",
       "31                         ZTE             5          num_tweets  245.000000"
      ]
     },
     "execution_count": 86,
     "metadata": {},
     "output_type": "execute_result"
    }
   ],
   "source": [
    "node_properties"
   ]
  },
  {
   "cell_type": "code",
   "execution_count": 87,
   "metadata": {
    "ExecuteTime": {
     "end_time": "2019-12-03T23:54:49.938439Z",
     "start_time": "2019-12-03T23:54:49.928438Z"
    }
   },
   "outputs": [],
   "source": [
    "node_properties.to_pickle('node_properties_social_media.pkl')"
   ]
  },
  {
   "cell_type": "code",
   "execution_count": null,
   "metadata": {},
   "outputs": [],
   "source": []
  }
 ],
 "metadata": {
  "kernelspec": {
   "display_name": "Python 3",
   "language": "python",
   "name": "python3"
  },
  "language_info": {
   "codemirror_mode": {
    "name": "ipython",
    "version": 3
   },
   "file_extension": ".py",
   "mimetype": "text/x-python",
   "name": "python",
   "nbconvert_exporter": "python",
   "pygments_lexer": "ipython3",
   "version": "3.7.4"
  },
  "varInspector": {
   "cols": {
    "lenName": 16,
    "lenType": 16,
    "lenVar": 40
   },
   "kernels_config": {
    "python": {
     "delete_cmd_postfix": "",
     "delete_cmd_prefix": "del ",
     "library": "var_list.py",
     "varRefreshCmd": "print(var_dic_list())"
    },
    "r": {
     "delete_cmd_postfix": ") ",
     "delete_cmd_prefix": "rm(",
     "library": "var_list.r",
     "varRefreshCmd": "cat(var_dic_list()) "
    }
   },
   "types_to_exclude": [
    "module",
    "function",
    "builtin_function_or_method",
    "instance",
    "_Feature"
   ],
   "window_display": false
  }
 },
 "nbformat": 4,
 "nbformat_minor": 2
}
