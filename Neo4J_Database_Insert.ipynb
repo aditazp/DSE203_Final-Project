{
 "cells": [
  {
   "cell_type": "code",
   "execution_count": 4,
   "metadata": {},
   "outputs": [],
   "source": [
    "import pandas as pd\n",
    "import numpy as np\n",
    "from py2neo import Graph\n",
    "from py2neo import Node, Relationship"
   ]
  },
  {
   "cell_type": "code",
   "execution_count": 5,
   "metadata": {},
   "outputs": [],
   "source": [
    "node_properties = pd.read_pickle(\"All_node_properties.pkl\")\n",
    "edge_properties = pd.read_pickle(\"All_edge_properties.pkl\")\n",
    "connections = pd.read_pickle(\"All_connections.pkl\")\n",
    "edge_type = pd.read_pickle(\"All_edge_types.pkl\")\n",
    "node_type = pd.read_pickle(\"All_node_types.pkl\")"
   ]
  },
  {
   "cell_type": "code",
   "execution_count": 7,
   "metadata": {},
   "outputs": [],
   "source": [
    "# Connect to Neo4J Graph\n",
    "graph = Graph(\"bolt://localhost:7687\", user=\"neo4j\", password=\"team1\")\n",
    "\n",
    "# Clear graph for inserts\n",
    "graph.delete_all()\n",
    "graph.schema.create_uniqueness_constraint(\"Person\",\"name\")"
   ]
  },
  {
   "cell_type": "code",
   "execution_count": 8,
   "metadata": {},
   "outputs": [],
   "source": [
    "# Creating the relationship between Nodes\n",
    "for i in range(len(connections)):\n",
    "    temp_prop_a = node_properties.loc[node_properties['Node_Primary_Key'] == connections['Node_Property_Key'][i]].reset_index()\n",
    "    temp_type_a = node_type.loc[node_type['Primary_Key'] == temp_prop_a['Node_Type_Key'][0]].reset_index()\n",
    "    node_name_a = temp_prop_a.loc[temp_prop_a['Property_Name'] == 'Name'].reset_index()\n",
    "    temp_node_a = Node(temp_type_a['Node_Type'][0], name = str(node_name_a['Property'][0]))\n",
    "    for j in range(len(temp_prop_a)):\n",
    "        if temp_prop_a['Property_Name'][j] == 'Date':\n",
    "            temp = int(temp_prop_a['Property'][j][-4:])\n",
    "            temp_node_a[temp_prop_a['Property_Name'][j]] = temp\n",
    "        elif temp_prop_a['Property_Name'][j] != 'Name' and isinstance(temp_prop_a['Property'][j], str):\n",
    "            temp_node_a[temp_prop_a['Property_Name'][j]] = str(temp_prop_a['Property'][j])\n",
    "        elif isinstance(temp_prop_a['Property'][j], float):\n",
    "            if not np.isnan(temp_prop_a['Property'][j]):\n",
    "                temp_node_a[temp_prop_a['Property_Name'][j]] = temp_prop_a['Property'][j]\n",
    "        elif isinstance(temp_prop_a['Property'][j], int):\n",
    "            if not np.isnan(temp_prop_a['Property'][j]):\n",
    "                temp_node_a[temp_prop_a['Property_Name'][j]] = temp_prop_a['Property'][j]\n",
    "\n",
    "    temp_prop_b = node_properties.loc[node_properties['Node_Primary_Key'] == connections['Node_Property_Key_2'][i]].reset_index()\n",
    "    temp_type_b = node_type.loc[node_type['Primary_Key'] == temp_prop_b['Node_Type_Key'][0]].reset_index()\n",
    "    node_name_b = temp_prop_b.loc[temp_prop_b['Property_Name'] == 'Name'].reset_index()\n",
    "    \n",
    "    if node_name_b.empty and (temp_prop_b['Node_Type_Key'][0] == 4):\n",
    "        node_name_b = str(node_name_a['Property'][0]) + ' FD'\n",
    "        temp_node_b = Node(temp_type_b['Node_Type'][0], name = node_name_b)\n",
    "    elif node_name_b.empty and (temp_prop_b['Node_Type_Key'][0] == 6):\n",
    "        node_name_b = str(temp_prop_b.loc[temp_prop_b['Property_Name'] == 'Code'].reset_index())\n",
    "        node_name_b = 'Parent NAICS Code ' + node_name_b\n",
    "        temp_node_b = Node(temp_type_b['Node_Type'][0], name = node_name_b)\n",
    "    elif node_name_b.empty and (temp_prop_b['Node_Type_Key'][0] == 5):\n",
    "        node_name_b = str(node_name_a['Property'][0]) + ' Social Media'\n",
    "        temp_node_b = Node(temp_type_b['Node_Type'][0], name = node_name_b)    \n",
    "    else:\n",
    "        temp_node_b = Node(temp_type_b['Node_Type'][0], name = str(node_name_b['Property'][0]))\n",
    "        \n",
    "    for j in range(len(temp_prop_b)):\n",
    "        if temp_prop_b['Property_Name'][j] == 'Date':\n",
    "            temp = int(temp_prop_b['Property'][j][-4:])\n",
    "            temp_node_b[temp_prop_b['Property_Name'][j]] = temp\n",
    "        elif temp_prop_b['Property_Name'][j] != 'Name' and isinstance(temp_prop_b['Property'][j], str):\n",
    "            temp_node_b[temp_prop_b['Property_Name'][j]] = str(temp_prop_b['Property'][j])\n",
    "        elif isinstance(temp_prop_b['Property'][j], float):\n",
    "            if not np.isnan(temp_prop_b['Property'][j]):\n",
    "                temp_node_b[temp_prop_b['Property_Name'][j]] = temp_prop_b['Property'][j]\n",
    "        elif isinstance(temp_prop_b['Property'][j], int):\n",
    "            if not np.isnan(temp_prop_b['Property'][j]):\n",
    "                temp_node_b[temp_prop_b['Property_Name'][j]] = temp_prop_b['Property'][j]\n",
    "            \n",
    "    edge_prop = edge_properties.loc[edge_properties['Edge_Primary_Key'] == connections['Edge_Property_Key'][i]].reset_index()\n",
    "    temp_edge_type = edge_type.loc[edge_type['Edge_Primary_Key'] == edge_prop['Edge_Type_Key'][0]].reset_index()\n",
    "    relationship = str(temp_edge_type['Edge_Type'][0])\n",
    "    edge_init = Relationship(temp_node_a, relationship, temp_node_b)\n",
    "    for j in range(len(edge_prop)):\n",
    "        if edge_prop['Property_Name'][j] == '% Overlap':\n",
    "            edge_init[edge_prop['Property_Name'][j]] = int(edge_prop['Property'][j])\n",
    "        else:\n",
    "            edge_init[edge_prop['Property_Name'][j]] = str(edge_prop['Property'][j])\n",
    "    \n",
    "    tx = graph.begin()\n",
    "    tx.merge(temp_node_a,temp_type_a['Node_Type'][0],\"name\") #node,label,primary key\n",
    "    tx.merge(temp_node_b,temp_type_b['Node_Type'][0],\"name\") #node,label,pirmary key\n",
    "    tx.merge(edge_init)\n",
    "    tx.commit()"
   ]
  },
  {
   "cell_type": "code",
   "execution_count": null,
   "metadata": {},
   "outputs": [],
   "source": []
  }
 ],
 "metadata": {
  "kernelspec": {
   "display_name": "Python 3",
   "language": "python",
   "name": "python3"
  },
  "language_info": {
   "codemirror_mode": {
    "name": "ipython",
    "version": 3
   },
   "file_extension": ".py",
   "mimetype": "text/x-python",
   "name": "python",
   "nbconvert_exporter": "python",
   "pygments_lexer": "ipython3",
   "version": "3.7.3"
  }
 },
 "nbformat": 4,
 "nbformat_minor": 2
}
